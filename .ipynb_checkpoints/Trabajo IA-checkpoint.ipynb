{
 "cells": [
  {
   "cell_type": "code",
   "execution_count": 1,
   "metadata": {},
   "outputs": [],
   "source": [
    "import os\n",
    "import csv\n",
    "import numpy as np\n",
    "import matplotlib.pyplot as plt"
   ]
  },
  {
   "cell_type": "markdown",
   "metadata": {},
   "source": [
    "## Definición de la carga de datos"
   ]
  },
  {
   "cell_type": "code",
   "execution_count": 2,
   "metadata": {},
   "outputs": [],
   "source": [
    "def cargar_datos_txt(fichero):\n",
    "    path = os.path.join(os.getcwd(), fichero)\n",
    "    lineas = csv.reader(open(path, newline='\\n'))\n",
    "    data = []\n",
    "        \n",
    "        \n",
    "    for linea in lineas:\n",
    "        fila = []\n",
    "        for i in range(0, len(linea)):\n",
    "            fila.append(int(linea[i]))\n",
    "        data.append(fila)\n",
    "        \n",
    "    return data"
   ]
  },
  {
   "cell_type": "code",
   "execution_count": 3,
   "metadata": {},
   "outputs": [],
   "source": [
    "def encuentra_posicion(valor, data):\n",
    "    for i in range(0, len(data)):\n",
    "        for j in range(0, len(data[i])): \n",
    "            \n",
    "            if valor == data[i][j]:\n",
    "                x, y = i,j\n",
    "                break\n",
    "    return x, y\n",
    "            "
   ]
  },
  {
   "cell_type": "code",
   "execution_count": 4,
   "metadata": {},
   "outputs": [],
   "source": [
    "def crear_matriz_recompensas(data, fin):\n",
    "    \n",
    "    cantidad = len(data)*len(data[0])\n",
    "    \n",
    "    lista = []\n",
    "    for i in range(0, cantidad):\n",
    "        lista.append([-1]*cantidad)\n",
    "    \n",
    "    #Definir vecinos\n",
    "    for i in range(0, len(data)):\n",
    "        \n",
    "        for j in range(0, len(data[i])):\n",
    "            actual = data[i][j]\n",
    "            \n",
    "        \n",
    "            \n",
    "            if len(data)  > i+1:\n",
    "                vecino1 = data[i+1][j]\n",
    "                if vecino1 == fin:\n",
    "                    lista[actual][vecino1] = 100\n",
    "                else:\n",
    "                    lista[actual][vecino1] = 0\n",
    "                    \n",
    "            if 0 <= i-1:\n",
    "                vecino2 = data[i-1][j]\n",
    "                if vecino2 == fin:\n",
    "                    lista[actual][vecino2] = 100\n",
    "                else:\n",
    "                    lista[actual][vecino2] = 0\n",
    "                    \n",
    "            if len(data[i]) > j+1:\n",
    "                vecino3 = data[i][j+1]\n",
    "                if vecino3 == fin:\n",
    "                    lista[actual][vecino3] = 100\n",
    "                else:\n",
    "                    lista[actual][vecino3] = 0\n",
    "                \n",
    "            if 0 <= j-1:\n",
    "                vecino4 = data[i][j-1]\n",
    "                if vecino4 == fin:\n",
    "                    lista[actual][vecino4] = 100\n",
    "                else:\n",
    "                    lista[actual][vecino4] = 0\n",
    "            \n",
    "    lista[fin][fin] = 100\n",
    "    return lista\n",
    "            \n",
    "            \n",
    "    "
   ]
  },
  {
   "cell_type": "code",
   "execution_count": 5,
   "metadata": {},
   "outputs": [],
   "source": [
    "#Inicializa la matriz Q para el algorimo de Q-Learning, con los pesos de cada\n",
    "#acción inicializados a 0\n",
    "def inicializa_Q(recompensas):\n",
    "   \n",
    "    lista = []\n",
    "    for i in range(0, len(recompensas)):\n",
    "        lista.append([0]*len(recompensas))\n",
    "        \n",
    "     \n",
    "    return lista\n",
    "    "
   ]
  },
  {
   "cell_type": "code",
   "execution_count": 6,
   "metadata": {},
   "outputs": [],
   "source": [
    "def carga_matriz_recompensas(fichero):\n",
    "    datos = cargar_datos_txt(fichero)\n",
    "    return datos"
   ]
  },
  {
   "cell_type": "code",
   "execution_count": 7,
   "metadata": {},
   "outputs": [],
   "source": [
    "def cargar_datos():\n",
    "    \n",
    "    tipo = int(input('''Si quieres que se genere la matriz de recompensas a partir de un tablero pulsa 0,\n",
    "si quieres cargar tu matriz de recompensas pulsa 1:\n",
    "                        '''))\n",
    "    \n",
    "    inicio = int(input('Introduce el valor de la casilla de inicio: '))\n",
    "    \n",
    "    fin = int(input('Introduce el valor de la casilla objetivo: '))\n",
    "    \n",
    "    epochs = int(input('Introduce el número de episodios de entrenamiento: '))\n",
    "    \n",
    "    gamma = float(input('Introduce el valor del factor de aprendizaje gamma: '))\n",
    "    \n",
    "    epsilon = float(input('Introduce el valor del parámetro epsilon: '))\n",
    "    \n",
    "    alpha = float(input('Introduce el valor del parámetro alpha: '))\n",
    "    \n",
    "    if tipo == 0:\n",
    "        \n",
    "        data = cargar_datos_txt('./parametros.txt')\n",
    "    \n",
    "        recompensas = crear_matriz_recompensas(data, fin)\n",
    "    \n",
    "        q = inicializa_Q(recompensas)\n",
    "        \n",
    "    else:\n",
    "        \n",
    "        data = cargar_datos_txt('./parametros.txt')\n",
    "        \n",
    "        recompensas = cargar_datos_txt('./recompensas.txt')\n",
    "        \n",
    "        q = inicializa_Q(recompensas)\n",
    "        \n",
    "    \n",
    "    return data, recompensas, q, inicio, fin, epochs, gamma, epsilon, alpha"
   ]
  },
  {
   "cell_type": "markdown",
   "metadata": {},
   "source": [
    "## Definición de algoritmo de Q-Learning Fase 1"
   ]
  },
  {
   "cell_type": "code",
   "execution_count": 8,
   "metadata": {},
   "outputs": [],
   "source": [
    "def seleccionar_accion_aleatoria(valor, recompensas):\n",
    "    aleatorio = -1\n",
    "    while aleatorio == -1:\n",
    "        casilla = np.random.randint(len(recompensas),size=1)[0]\n",
    "        aleatorio = recompensas[valor][casilla]\n",
    "    return casilla    "
   ]
  },
  {
   "cell_type": "code",
   "execution_count": 9,
   "metadata": {},
   "outputs": [],
   "source": [
    "def calcula_rendimiento(q):\n",
    "    suma = 0\n",
    "    maximo=1\n",
    "    for i in range(0, len(q)):\n",
    "        suma+=sum(q[i])\n",
    "        if maximo < max(q[i]):\n",
    "            maximo = max(q[i])\n",
    "    return (suma/maximo)*100\n",
    "    "
   ]
  },
  {
   "cell_type": "code",
   "execution_count": 10,
   "metadata": {},
   "outputs": [],
   "source": [
    "def muestra_rendimiento(rendimiento):\n",
    "    plt.title('Rendimiento del algoritmo de Q-Learning')\n",
    "    plt.xlabel('Número de episodios de entrenamiento')\n",
    "    plt.ylabel('Valor del rendimiento del algoritmo')\n",
    "    plt.plot(rendimiento)\n",
    "    plt.show()"
   ]
  },
  {
   "cell_type": "code",
   "execution_count": 47,
   "metadata": {},
   "outputs": [],
   "source": [
    "def calcular_camino(q,inicio,fin):\n",
    "    posicion = inicio\n",
    "    camino = []\n",
    "    camino.append(inicio)\n",
    "    \n",
    "    while posicion != fin:\n",
    "        \n",
    "        maximo = max(q[posicion])\n",
    "        siguiente = q[posicion].index(maximo)\n",
    "        camino.append(siguiente)\n",
    "        posicion = siguiente\n",
    "        \n",
    "    representacion = ''\n",
    "\n",
    "    for i in range(len(camino)):\n",
    "        representacion += str(camino[i])+' -> '\n",
    "        \n",
    "    return representacion[:-4] "
   ]
  },
  {
   "cell_type": "code",
   "execution_count": 63,
   "metadata": {},
   "outputs": [],
   "source": [
    "def q_learning(data, recompensas, q, inicio, fin, epochs, gamma):\n",
    "    rendimiento = []\n",
    "    for epoch in range(0, epochs):\n",
    "        \n",
    "        print('Epoca = '+str(epoch), 'Completado al '+str((epoch/epochs)*100)+'%')\n",
    "        i = np.random.randint(len(data) ,size=1)[0]\n",
    "        j = np.random.randint(len(data[i]),size=1)[0]\n",
    "        estado = data[i][j]\n",
    "        primero = True\n",
    "        \n",
    "        while (estado != fin) or (primero):\n",
    "            \n",
    "            accion = seleccionar_accion_aleatoria(estado, recompensas)\n",
    "            maximo = max(q[accion])\n",
    "            q[estado][accion] = recompensas[estado][accion] + gamma*maximo\n",
    "            estado = accion\n",
    "            primero = False\n",
    "        \n",
    "            \n",
    "        rendimiento.append(calcula_rendimiento(q))\n",
    "        \n",
    "\n",
    "    #camino = calcular_camino(q,inicio,fin)\n",
    "  \n",
    "    return q, rendimiento\n",
    "    "
   ]
  },
  {
   "cell_type": "markdown",
   "metadata": {},
   "source": [
    "## Definición de algoritmo de Q-Learning Fase 2"
   ]
  },
  {
   "cell_type": "code",
   "execution_count": 49,
   "metadata": {},
   "outputs": [],
   "source": [
    "def selecionar_accion_aleatoria_F2(estado, recompensas, q, epsilon):\n",
    "    aleatorio = np.random.rand(1)[0]\n",
    "    \n",
    "    if aleatorio < epsilon:\n",
    "        res = seleccionar_accion_aleatoria(estado, recompensas)\n",
    "    else:\n",
    "        maximo = max(q[estado])\n",
    "        res = q[estado].index(maximo)\n",
    "    return res"
   ]
  },
  {
   "cell_type": "code",
   "execution_count": 50,
   "metadata": {},
   "outputs": [],
   "source": [
    "def q_learning_F2(data, recompensas, q, inicio, fin, epochs, gamma, epsilon, alpha):\n",
    "    rendimiento = []\n",
    "    for epoch in range(0, epochs):\n",
    "        \n",
    "        #print('Epoca = '+str(epoch), 'Completado al '+str((epoch/epochs)*100)+'%')\n",
    "        i = np.random.randint(len(data) ,size=1)[0]\n",
    "        j = np.random.randint(len(data[i]),size=1)[0]\n",
    "        estado = data[i][j]\n",
    "        primero = True\n",
    "        \n",
    "        while (estado != fin) or (primero):\n",
    "            \n",
    "            accion = selecionar_accion_aleatoria_F2(estado, recompensas, q , epsilon)\n",
    "            maximo = max(q[accion])\n",
    "            q[estado][accion] = recompensas[estado][accion] + gamma*maximo\n",
    "            estado = accion\n",
    "            primero = False\n",
    "            \n",
    "        rendimiento.append(calcula_rendimiento(q))\n",
    "        epsilon *= alpha\n",
    "    \n",
    "    \n",
    "    camino = calcular_camino(q, inicio, fin)\n",
    "    \n",
    "    return q, rendimiento, camino"
   ]
  },
  {
   "cell_type": "markdown",
   "metadata": {},
   "source": [
    "# Main:"
   ]
  },
  {
   "cell_type": "code",
   "execution_count": 62,
   "metadata": {
    "scrolled": true
   },
   "outputs": [
    {
     "name": "stdout",
     "output_type": "stream",
     "text": [
      "Si quieres que se genere la matriz de recompensas a partir de un tablero pulsa 0,\n",
      "si quieres cargar tu matriz de recompensas pulsa 1:\n",
      "                        1\n",
      "Introduce el valor de la casilla de inicio: 0\n",
      "Introduce el valor de la casilla objetivo: 13\n",
      "Introduce el número de episodios de entrenamiento: 30\n",
      "Introduce el valor del factor de aprendizaje gamma: 0.5\n",
      "Introduce el valor del parámetro epsilon: 1\n",
      "Introduce el valor del parámetro alpha: 1\n",
      "Epoca = 0 Completado al 0.0%\n",
      "Epoca = 1 Completado al 3.3333333333333335%\n",
      "Epoca = 2 Completado al 6.666666666666667%\n",
      "Epoca = 3 Completado al 10.0%\n",
      "Epoca = 4 Completado al 13.333333333333334%\n",
      "Epoca = 5 Completado al 16.666666666666664%\n",
      "Epoca = 6 Completado al 20.0%\n",
      "Epoca = 7 Completado al 23.333333333333332%\n",
      "Epoca = 8 Completado al 26.666666666666668%\n",
      "Epoca = 9 Completado al 30.0%\n",
      "Epoca = 10 Completado al 33.33333333333333%\n",
      "Epoca = 11 Completado al 36.666666666666664%\n",
      "Epoca = 12 Completado al 40.0%\n",
      "Epoca = 13 Completado al 43.333333333333336%\n",
      "Epoca = 14 Completado al 46.666666666666664%\n",
      "Epoca = 15 Completado al 50.0%\n",
      "Epoca = 16 Completado al 53.333333333333336%\n",
      "Epoca = 17 Completado al 56.666666666666664%\n",
      "Epoca = 18 Completado al 60.0%\n",
      "Epoca = 19 Completado al 63.33333333333333%\n",
      "Epoca = 20 Completado al 66.66666666666666%\n",
      "Epoca = 21 Completado al 70.0%\n",
      "Epoca = 22 Completado al 73.33333333333333%\n",
      "Epoca = 23 Completado al 76.66666666666667%\n",
      "Epoca = 24 Completado al 80.0%\n",
      "Epoca = 25 Completado al 83.33333333333334%\n",
      "Epoca = 26 Completado al 86.66666666666667%\n",
      "Epoca = 27 Completado al 90.0%\n",
      "Epoca = 28 Completado al 93.33333333333333%\n",
      "Epoca = 29 Completado al 96.66666666666667%\n"
     ]
    },
    {
     "ename": "KeyboardInterrupt",
     "evalue": "",
     "output_type": "error",
     "traceback": [
      "\u001b[1;31m---------------------------------------------------------------------------\u001b[0m",
      "\u001b[1;31mKeyboardInterrupt\u001b[0m                         Traceback (most recent call last)",
      "\u001b[1;32m<ipython-input-62-b4e418d03889>\u001b[0m in \u001b[0;36m<module>\u001b[1;34m\u001b[0m\n\u001b[0;32m      7\u001b[0m     \u001b[0mprint\u001b[0m\u001b[1;33m(\u001b[0m\u001b[1;34m'El camino óptimo es: '\u001b[0m \u001b[1;33m+\u001b[0m \u001b[0mcamino\u001b[0m\u001b[1;33m)\u001b[0m\u001b[1;33m\u001b[0m\u001b[1;33m\u001b[0m\u001b[0m\n\u001b[0;32m      8\u001b[0m \u001b[1;33m\u001b[0m\u001b[0m\n\u001b[1;32m----> 9\u001b[1;33m \u001b[1;32mif\u001b[0m \u001b[0m__name__\u001b[0m \u001b[1;33m==\u001b[0m \u001b[1;34m\"__main__\"\u001b[0m\u001b[1;33m:\u001b[0m \u001b[0mmain\u001b[0m\u001b[1;33m(\u001b[0m\u001b[1;33m)\u001b[0m\u001b[1;33m\u001b[0m\u001b[1;33m\u001b[0m\u001b[0m\n\u001b[0m\u001b[0;32m     10\u001b[0m \u001b[1;33m\u001b[0m\u001b[0m\n",
      "\u001b[1;32m<ipython-input-62-b4e418d03889>\u001b[0m in \u001b[0;36mmain\u001b[1;34m()\u001b[0m\n\u001b[0;32m      1\u001b[0m \u001b[1;32mdef\u001b[0m \u001b[0mmain\u001b[0m\u001b[1;33m(\u001b[0m\u001b[1;33m)\u001b[0m\u001b[1;33m:\u001b[0m\u001b[1;33m\u001b[0m\u001b[1;33m\u001b[0m\u001b[0m\n\u001b[0;32m      2\u001b[0m     \u001b[0mdata\u001b[0m\u001b[1;33m,\u001b[0m \u001b[0mrecompensas\u001b[0m\u001b[1;33m,\u001b[0m \u001b[0mq\u001b[0m\u001b[1;33m,\u001b[0m \u001b[0minicio\u001b[0m\u001b[1;33m,\u001b[0m \u001b[0mfin\u001b[0m\u001b[1;33m,\u001b[0m \u001b[0mepochs\u001b[0m\u001b[1;33m,\u001b[0m \u001b[0mgamma\u001b[0m\u001b[1;33m,\u001b[0m \u001b[0mepsilon\u001b[0m\u001b[1;33m,\u001b[0m \u001b[0malpha\u001b[0m \u001b[1;33m=\u001b[0m \u001b[0mcargar_datos\u001b[0m\u001b[1;33m(\u001b[0m\u001b[1;33m)\u001b[0m\u001b[1;33m\u001b[0m\u001b[1;33m\u001b[0m\u001b[0m\n\u001b[1;32m----> 3\u001b[1;33m     \u001b[0mq\u001b[0m\u001b[1;33m,\u001b[0m \u001b[0mrendimiento\u001b[0m\u001b[1;33m,\u001b[0m \u001b[0mcamino\u001b[0m  \u001b[1;33m=\u001b[0m \u001b[0mq_learning\u001b[0m\u001b[1;33m(\u001b[0m\u001b[0mdata\u001b[0m\u001b[1;33m,\u001b[0m \u001b[0mrecompensas\u001b[0m\u001b[1;33m,\u001b[0m \u001b[0mq\u001b[0m\u001b[1;33m,\u001b[0m \u001b[0minicio\u001b[0m\u001b[1;33m,\u001b[0m \u001b[0mfin\u001b[0m\u001b[1;33m,\u001b[0m \u001b[0mepochs\u001b[0m\u001b[1;33m,\u001b[0m \u001b[0mgamma\u001b[0m\u001b[1;33m)\u001b[0m\u001b[1;33m\u001b[0m\u001b[1;33m\u001b[0m\u001b[0m\n\u001b[0m\u001b[0;32m      4\u001b[0m     \u001b[0mprint\u001b[0m\u001b[1;33m(\u001b[0m\u001b[1;34m'\\nMatriz Q obtenida =\\n'\u001b[0m\u001b[1;33m,\u001b[0m\u001b[0mq\u001b[0m\u001b[1;33m)\u001b[0m\u001b[1;33m\u001b[0m\u001b[1;33m\u001b[0m\u001b[0m\n\u001b[0;32m      5\u001b[0m     \u001b[0mmuestra_rendimiento\u001b[0m\u001b[1;33m(\u001b[0m\u001b[0mrendimiento\u001b[0m\u001b[1;33m)\u001b[0m\u001b[1;33m\u001b[0m\u001b[1;33m\u001b[0m\u001b[0m\n",
      "\u001b[1;32m<ipython-input-61-a459c718dff0>\u001b[0m in \u001b[0;36mq_learning\u001b[1;34m(data, recompensas, q, inicio, fin, epochs, gamma)\u001b[0m\n\u001b[0;32m     21\u001b[0m \u001b[1;33m\u001b[0m\u001b[0m\n\u001b[0;32m     22\u001b[0m \u001b[1;33m\u001b[0m\u001b[0m\n\u001b[1;32m---> 23\u001b[1;33m     \u001b[0mcamino\u001b[0m \u001b[1;33m=\u001b[0m \u001b[0mcalcular_camino\u001b[0m\u001b[1;33m(\u001b[0m\u001b[0mq\u001b[0m\u001b[1;33m,\u001b[0m\u001b[0minicio\u001b[0m\u001b[1;33m,\u001b[0m\u001b[0mfin\u001b[0m\u001b[1;33m)\u001b[0m\u001b[1;33m\u001b[0m\u001b[1;33m\u001b[0m\u001b[0m\n\u001b[0m\u001b[0;32m     24\u001b[0m \u001b[1;33m\u001b[0m\u001b[0m\n\u001b[0;32m     25\u001b[0m     \u001b[1;32mreturn\u001b[0m \u001b[0mq\u001b[0m\u001b[1;33m,\u001b[0m \u001b[0mrendimiento\u001b[0m\u001b[1;33m,\u001b[0m \u001b[0mcamino\u001b[0m\u001b[1;33m\u001b[0m\u001b[1;33m\u001b[0m\u001b[0m\n",
      "\u001b[1;32m<ipython-input-47-998a72969d17>\u001b[0m in \u001b[0;36mcalcular_camino\u001b[1;34m(q, inicio, fin)\u001b[0m\n\u001b[0;32m      8\u001b[0m         \u001b[0mmaximo\u001b[0m \u001b[1;33m=\u001b[0m \u001b[0mmax\u001b[0m\u001b[1;33m(\u001b[0m\u001b[0mq\u001b[0m\u001b[1;33m[\u001b[0m\u001b[0mposicion\u001b[0m\u001b[1;33m]\u001b[0m\u001b[1;33m)\u001b[0m\u001b[1;33m\u001b[0m\u001b[1;33m\u001b[0m\u001b[0m\n\u001b[0;32m      9\u001b[0m         \u001b[0msiguiente\u001b[0m \u001b[1;33m=\u001b[0m \u001b[0mq\u001b[0m\u001b[1;33m[\u001b[0m\u001b[0mposicion\u001b[0m\u001b[1;33m]\u001b[0m\u001b[1;33m.\u001b[0m\u001b[0mindex\u001b[0m\u001b[1;33m(\u001b[0m\u001b[0mmaximo\u001b[0m\u001b[1;33m)\u001b[0m\u001b[1;33m\u001b[0m\u001b[1;33m\u001b[0m\u001b[0m\n\u001b[1;32m---> 10\u001b[1;33m         \u001b[0mcamino\u001b[0m\u001b[1;33m.\u001b[0m\u001b[0mappend\u001b[0m\u001b[1;33m(\u001b[0m\u001b[0msiguiente\u001b[0m\u001b[1;33m)\u001b[0m\u001b[1;33m\u001b[0m\u001b[1;33m\u001b[0m\u001b[0m\n\u001b[0m\u001b[0;32m     11\u001b[0m         \u001b[0mposicion\u001b[0m \u001b[1;33m=\u001b[0m \u001b[0msiguiente\u001b[0m\u001b[1;33m\u001b[0m\u001b[1;33m\u001b[0m\u001b[0m\n\u001b[0;32m     12\u001b[0m \u001b[1;33m\u001b[0m\u001b[0m\n",
      "\u001b[1;31mKeyboardInterrupt\u001b[0m: "
     ]
    }
   ],
   "source": [
    "def main(): \n",
    "    data, recompensas, q, inicio, fin, epochs, gamma, epsilon, alpha = cargar_datos()\n",
    "    q, rendimiento, camino  = q_learning(data, recompensas, q, inicio, fin, epochs, gamma)\n",
    "    print('\\nMatriz Q obtenida =\\n',q)\n",
    "    muestra_rendimiento(rendimiento)\n",
    "    \n",
    "    print('El camino óptimo es: ' + camino)\n",
    "    \n",
    "if __name__ == \"__main__\": main()\n",
    "   "
   ]
  },
  {
   "cell_type": "code",
   "execution_count": null,
   "metadata": {},
   "outputs": [
    {
     "name": "stdout",
     "output_type": "stream",
     "text": [
      "Si quieres que se genere la matriz de recompensas a partir de un tablero pulsa 0,\n",
      "si quieres cargar tu matriz de recompensas pulsa 1:\n",
      "                        0\n",
      "Introduce el valor de la casilla de inicio: 1\n",
      "Introduce el valor de la casilla objetivo: 12\n",
      "Introduce el número de episodios de entrenamiento: 12\n",
      "Introduce el valor del factor de aprendizaje gamma: 1\n",
      "Introduce el valor del parámetro epsilon: 1\n",
      "Introduce el valor del parámetro alpha: 1\n"
     ]
    }
   ],
   "source": [
    "data, recompensas, q, inicio, fin, epochs, gamma, epsilon, alpha = cargar_datos()\n",
    "q, rendimiento,  = q_learning(data, recompensas, q, inicio, fin, epochs, gamma)"
   ]
  },
  {
   "cell_type": "code",
   "execution_count": null,
   "metadata": {
    "scrolled": true
   },
   "outputs": [],
   "source": [
    "for i in range(len(recompensas)):\n",
    "    print(str(i)+':',recompensas[i])"
   ]
  },
  {
   "cell_type": "code",
   "execution_count": null,
   "metadata": {},
   "outputs": [],
   "source": []
  },
  {
   "cell_type": "code",
   "execution_count": null,
   "metadata": {
    "scrolled": false
   },
   "outputs": [],
   "source": [
    "'''\n",
    "i = 0.1\n",
    "while i<=1:\n",
    "    for b in range(0,4):\n",
    "        q = inicializa_Q(data)\n",
    "        q, rendimiento = q_learning_F2(data, recompensas, q, 0, 6, 50, 0.5, 1, i)\n",
    "        print('i = ', i)\n",
    "        muestra_rendimiento(rendimiento)\n",
    "    i+=0.1\n",
    "'''"
   ]
  },
  {
   "cell_type": "code",
   "execution_count": 66,
   "metadata": {},
   "outputs": [
    {
     "name": "stdout",
     "output_type": "stream",
     "text": [
      "Si quieres que se genere la matriz de recompensas a partir de un tablero pulsa 0,\n",
      "si quieres cargar tu matriz de recompensas pulsa 1:\n",
      "                        1\n",
      "Introduce el valor de la casilla de inicio: 0\n",
      "Introduce el valor de la casilla objetivo: 13\n",
      "Introduce el número de episodios de entrenamiento: 30\n",
      "Introduce el valor del factor de aprendizaje gamma: 0.5\n",
      "Introduce el valor del parámetro epsilon: 1\n",
      "Introduce el valor del parámetro alpha: 1\n"
     ]
    }
   ],
   "source": [
    "data, recompensas, q, inicio, fin, epochs, gamma, epsilon, alpha = cargar_datos()"
   ]
  },
  {
   "cell_type": "code",
   "execution_count": 75,
   "metadata": {},
   "outputs": [
    {
     "name": "stdout",
     "output_type": "stream",
     "text": [
      "Epoca = 0 Completado al 0.0%\n",
      "Epoca = 1 Completado al 3.3333333333333335%\n",
      "Epoca = 2 Completado al 6.666666666666667%\n",
      "Epoca = 3 Completado al 10.0%\n",
      "Epoca = 4 Completado al 13.333333333333334%\n",
      "Epoca = 5 Completado al 16.666666666666664%\n",
      "Epoca = 6 Completado al 20.0%\n",
      "Epoca = 7 Completado al 23.333333333333332%\n",
      "Epoca = 8 Completado al 26.666666666666668%\n",
      "Epoca = 9 Completado al 30.0%\n",
      "Epoca = 10 Completado al 33.33333333333333%\n",
      "Epoca = 11 Completado al 36.666666666666664%\n",
      "Epoca = 12 Completado al 40.0%\n",
      "Epoca = 13 Completado al 43.333333333333336%\n",
      "Epoca = 14 Completado al 46.666666666666664%\n",
      "Epoca = 15 Completado al 50.0%\n",
      "Epoca = 16 Completado al 53.333333333333336%\n",
      "Epoca = 17 Completado al 56.666666666666664%\n",
      "Epoca = 18 Completado al 60.0%\n",
      "Epoca = 19 Completado al 63.33333333333333%\n",
      "Epoca = 20 Completado al 66.66666666666666%\n",
      "Epoca = 21 Completado al 70.0%\n",
      "Epoca = 22 Completado al 73.33333333333333%\n",
      "Epoca = 23 Completado al 76.66666666666667%\n",
      "Epoca = 24 Completado al 80.0%\n",
      "Epoca = 25 Completado al 83.33333333333334%\n",
      "Epoca = 26 Completado al 86.66666666666667%\n",
      "Epoca = 27 Completado al 90.0%\n",
      "Epoca = 28 Completado al 93.33333333333333%\n",
      "Epoca = 29 Completado al 96.66666666666667%\n",
      "\n",
      "Matriz Q obtenida =\n",
      " [[0, 213.14382897690263, 0, 263.1438289769026, 0, 0, 0, 0, 0, 0, 0, 0, 0, 0, 0], [236.8264766410029, 0, 191.82944607921237, 0, 221.24137500000003, 0, 0, 0, 0, 0, 0, 0, 0, 0, 0], [0, 213.14382897690263, 0, 213.14382897690263, 0, 199.11723750000004, 0, 172.64650147129115, 0, 0, 0, 0, 0, 0, 0], [236.8264766410029, 0, 191.82944607921237, 0, 0, 0, 0, 0, 191.82944607921237, 0, 0, 0, 0, 0, 0], [0, 213.14382897690263, 0, 0, 0, 199.11723750000004, 0, 0, 0, 245.82375000000005, 0, 0, 0, 0, 0], [0, 0, 191.82944607921237, 0, 221.24137500000003, 0, 179.20551375000005, 0, 0, 0, 221.24137500000003, 0, 0, 0, 0], [0, 0, 0, 0, 0, 199.11723750000004, 0, 172.64052960111437, 0, 0, 0, 199.11723750000004, 0, 0, 0], [0, 0, 191.82944607921237, 0, 0, 0, 179.20551375000005, 0, 191.82944607921237, 0, 0, 0, 0, 0, 0], [0, 0, 0, 213.14382897690263, 0, 0, 0, 172.64650147129115, 0, 0, 0, 0, 0, 0, 0], [0, 0, 0, 0, 221.24137500000003, 0, 0, 0, 0, 0, 221.24137500000003, 0, 0, 273.13750000000005, 0], [0, 0, 0, 0, 0, 199.11723750000004, 0, 0, 0, 245.82375000000005, 0, 199.11723750000004, 0, 0, 245.82375000000005], [0, 0, 0, 0, 0, 0, 179.20551375000005, 0, 0, 0, 221.24137500000003, 0, 221.24137500000003, 0, 0], [0, 0, 0, 0, 0, 0, 0, 0, 0, 0, 0, 199.11723750000004, 0, 0, 245.82375000000005], [0, 0, 0, 0, 0, 0, 0, 0, 0, 96.1875, 0, 0, 0, 192.375, 96.1875], [0, 0, 0, 0, 0, 0, 0, 0, 0, 0, 221.24137500000003, 0, 221.24137500000003, 273.13750000000005, 0]]\n"
     ]
    },
    {
     "data": {
      "image/png": "[encoded data removed]",
      "text/plain": [
       "<Figure size 432x288 with 1 Axes>"
      ]
     },
     "metadata": {
      "needs_background": "light"
     },
     "output_type": "display_data"
    },
    {
     "ename": "NameError",
     "evalue": "name 'camino' is not defined",
     "output_type": "error",
     "traceback": [
      "\u001b[1;31m---------------------------------------------------------------------------\u001b[0m",
      "\u001b[1;31mNameError\u001b[0m                                 Traceback (most recent call last)",
      "\u001b[1;32m<ipython-input-75-117a87a8b653>\u001b[0m in \u001b[0;36m<module>\u001b[1;34m\u001b[0m\n\u001b[0;32m      3\u001b[0m \u001b[0mmuestra_rendimiento\u001b[0m\u001b[1;33m(\u001b[0m\u001b[0mrendimiento\u001b[0m\u001b[1;33m)\u001b[0m\u001b[1;33m\u001b[0m\u001b[1;33m\u001b[0m\u001b[0m\n\u001b[0;32m      4\u001b[0m \u001b[1;33m\u001b[0m\u001b[0m\n\u001b[1;32m----> 5\u001b[1;33m \u001b[0mprint\u001b[0m\u001b[1;33m(\u001b[0m\u001b[1;34m'El camino óptimo es: '\u001b[0m \u001b[1;33m+\u001b[0m \u001b[0mcamino\u001b[0m\u001b[1;33m)\u001b[0m\u001b[1;33m\u001b[0m\u001b[1;33m\u001b[0m\u001b[0m\n\u001b[0m",
      "\u001b[1;31mNameError\u001b[0m: name 'camino' is not defined"
     ]
    }
   ],
   "source": [
    "q, rendimiento  = q_learning(data, recompensas, q, inicio, fin, epochs, 0.9)\n",
    "print('\\nMatriz Q obtenida =\\n',q)\n",
    "muestra_rendimiento(rendimiento)\n",
    "    \n",
    "print('El camino óptimo es: ' + camino)"
   ]
  },
  {
   "cell_type": "code",
   "execution_count": 76,
   "metadata": {},
   "outputs": [
    {
     "name": "stdout",
     "output_type": "stream",
     "text": [
      "0: [0, 213.14382897690263, 0, 263.1438289769026, 0, 0, 0, 0, 0, 0, 0, 0, 0, 0, 0]\n",
      "1: [236.8264766410029, 0, 191.82944607921237, 0, 221.24137500000003, 0, 0, 0, 0, 0, 0, 0, 0, 0, 0]\n",
      "2: [0, 213.14382897690263, 0, 213.14382897690263, 0, 199.11723750000004, 0, 172.64650147129115, 0, 0, 0, 0, 0, 0, 0]\n",
      "3: [236.8264766410029, 0, 191.82944607921237, 0, 0, 0, 0, 0, 191.82944607921237, 0, 0, 0, 0, 0, 0]\n",
      "4: [0, 213.14382897690263, 0, 0, 0, 199.11723750000004, 0, 0, 0, 245.82375000000005, 0, 0, 0, 0, 0]\n",
      "5: [0, 0, 191.82944607921237, 0, 221.24137500000003, 0, 179.20551375000005, 0, 0, 0, 221.24137500000003, 0, 0, 0, 0]\n",
      "6: [0, 0, 0, 0, 0, 199.11723750000004, 0, 172.64052960111437, 0, 0, 0, 199.11723750000004, 0, 0, 0]\n",
      "7: [0, 0, 191.82944607921237, 0, 0, 0, 179.20551375000005, 0, 191.82944607921237, 0, 0, 0, 0, 0, 0]\n",
      "8: [0, 0, 0, 213.14382897690263, 0, 0, 0, 172.64650147129115, 0, 0, 0, 0, 0, 0, 0]\n",
      "9: [0, 0, 0, 0, 221.24137500000003, 0, 0, 0, 0, 0, 221.24137500000003, 0, 0, 273.13750000000005, 0]\n",
      "10: [0, 0, 0, 0, 0, 199.11723750000004, 0, 0, 0, 245.82375000000005, 0, 199.11723750000004, 0, 0, 245.82375000000005]\n",
      "11: [0, 0, 0, 0, 0, 0, 179.20551375000005, 0, 0, 0, 221.24137500000003, 0, 221.24137500000003, 0, 0]\n",
      "12: [0, 0, 0, 0, 0, 0, 0, 0, 0, 0, 0, 199.11723750000004, 0, 0, 245.82375000000005]\n",
      "13: [0, 0, 0, 0, 0, 0, 0, 0, 0, 96.1875, 0, 0, 0, 192.375, 96.1875]\n",
      "14: [0, 0, 0, 0, 0, 0, 0, 0, 0, 0, 221.24137500000003, 0, 221.24137500000003, 273.13750000000005, 0]\n"
     ]
    }
   ],
   "source": [
    "for i in range(len(q)):\n",
    "    print(str(i)+':', q[i])"
   ]
  },
  {
   "cell_type": "code",
   "execution_count": null,
   "metadata": {},
   "outputs": [],
   "source": []
  }
 ],
 "metadata": {
  "kernelspec": {
   "display_name": "Python 3",
   "language": "python",
   "name": "python3"
  },
  "language_info": {
   "codemirror_mode": {
    "name": "ipython",
    "version": 3
   },
   "file_extension": ".py",
   "mimetype": "text/x-python",
   "name": "python",
   "nbconvert_exporter": "python",
   "pygments_lexer": "ipython3",
   "version": "3.7.4"
  }
 },
 "nbformat": 4,
 "nbformat_minor": 2
}
