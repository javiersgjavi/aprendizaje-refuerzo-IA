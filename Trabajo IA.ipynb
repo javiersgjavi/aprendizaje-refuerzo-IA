{
 "cells": [
  {
   "cell_type": "code",
   "execution_count": 22,
   "metadata": {},
   "outputs": [],
   "source": [
    "import os\n",
    "import csv\n",
    "import numpy as np\n",
    "import matplotlib.pyplot as plt\n",
    "import networkx as nx\n",
    "import random"
   ]
  },
  {
   "cell_type": "markdown",
   "metadata": {},
   "source": [
    "## Definición de la carga de datos"
   ]
  },
  {
   "cell_type": "code",
   "execution_count": 3,
   "metadata": {},
   "outputs": [],
   "source": [
    "def cargar_datos_txt(fichero):\n",
    "    path = os.path.join(os.getcwd(), fichero)\n",
    "    lineas = csv.reader(open(path, newline='\\n'))\n",
    "    data = []\n",
    "        \n",
    "        \n",
    "    for linea in lineas:\n",
    "        fila = []\n",
    "        for i in range(0, len(linea)):\n",
    "            fila.append(int(linea[i]))\n",
    "        data.append(fila)\n",
    "        \n",
    "    return data"
   ]
  },
  {
   "cell_type": "code",
   "execution_count": 4,
   "metadata": {},
   "outputs": [],
   "source": [
    "def crear_matriz_recompensas(data, fin):\n",
    "    \n",
    "    cantidad = len(data)*len(data[0])\n",
    "    \n",
    "    lista = []\n",
    "    for i in range(0, cantidad):\n",
    "        lista.append([-1]*cantidad)\n",
    "    \n",
    "    #Definir vecinos\n",
    "    for i in range(0, len(data)):\n",
    "        \n",
    "        for j in range(0, len(data[i])):\n",
    "            actual = data[i][j]\n",
    "            \n",
    "        \n",
    "            \n",
    "            if len(data)  > i+1:\n",
    "                vecino1 = data[i+1][j]\n",
    "                if vecino1 == fin:\n",
    "                    lista[actual][vecino1] = 100\n",
    "                else:\n",
    "                    lista[actual][vecino1] = 0\n",
    "                    \n",
    "            if 0 <= i-1:\n",
    "                vecino2 = data[i-1][j]\n",
    "                if vecino2 == fin:\n",
    "                    lista[actual][vecino2] = 100\n",
    "                else:\n",
    "                    lista[actual][vecino2] = 0\n",
    "                    \n",
    "            if len(data[i]) > j+1:\n",
    "                vecino3 = data[i][j+1]\n",
    "                if vecino3 == fin:\n",
    "                    lista[actual][vecino3] = 100\n",
    "                else:\n",
    "                    lista[actual][vecino3] = 0\n",
    "                \n",
    "            if 0 <= j-1:\n",
    "                vecino4 = data[i][j-1]\n",
    "                if vecino4 == fin:\n",
    "                    lista[actual][vecino4] = 100\n",
    "                else:\n",
    "                    lista[actual][vecino4] = 0\n",
    "            \n",
    "    lista[fin][fin] = 100\n",
    "    return lista\n",
    "            \n",
    "            \n",
    "    "
   ]
  },
  {
   "cell_type": "code",
   "execution_count": 5,
   "metadata": {},
   "outputs": [],
   "source": [
    "#Inicializa la matriz Q para el algorimo de Q-Learning, con los pesos de cada\n",
    "#acción inicializados a 0\n",
    "def inicializa_Q(recompensas):\n",
    "   \n",
    "    lista = []\n",
    "    for i in range(0, len(recompensas)):\n",
    "        lista.append([0]*len(recompensas))\n",
    "     \n",
    "    return lista "
   ]
  },
  {
   "cell_type": "code",
   "execution_count": 6,
   "metadata": {},
   "outputs": [],
   "source": [
    "def carga_matriz_recompensas(fichero):\n",
    "    datos = cargar_datos_txt(fichero)\n",
    "    return datos"
   ]
  },
  {
   "cell_type": "code",
   "execution_count": 7,
   "metadata": {},
   "outputs": [],
   "source": [
    "def cargar_datos():\n",
    "    \n",
    "    tipo = int(input('''Si quieres que se genere la matriz de recompensas a partir de un tablero pulsa 0,\n",
    "si quieres cargar tu matriz de recompensas pulsa 1: '''))\n",
    "    \n",
    "    inicio = int(input('Introduce el valor de la casilla de inicio: '))\n",
    "    \n",
    "    fin = int(input('Introduce el valor de la casilla objetivo: '))\n",
    "    \n",
    "    epochs = int(input('Introduce el número de episodios de entrenamiento: '))\n",
    "    \n",
    "    gamma = float(input('Introduce el valor del factor de aprendizaje gamma: '))\n",
    "    \n",
    "    tablero = str(input('Introduce el nombre del fichero desde el que quieres cargar los datos: '))\n",
    "    \n",
    "    tablero = './' + tablero + '.txt'\n",
    "    \n",
    "    if tipo == 0:\n",
    "        \n",
    "        data = cargar_datos_txt(tablero)\n",
    "    \n",
    "        recompensas = crear_matriz_recompensas(data, fin)\n",
    "    \n",
    "        q = inicializa_Q(recompensas)\n",
    "        \n",
    "    else:\n",
    "        \n",
    "        data = cargar_datos_txt(tablero)\n",
    "        \n",
    "        recompensas = str(input('Introduce el nombre del fichero desde el que quieres cargar la matriz de recompensas: '))\n",
    "    \n",
    "        recompensas = './' + recompensas + '.txt'\n",
    "        \n",
    "        recompensas = cargar_datos_txt(recompensas)\n",
    "        \n",
    "        q = inicializa_Q(recompensas)\n",
    "        \n",
    "    \n",
    "    return data, recompensas, q, inicio, fin, epochs, gamma"
   ]
  },
  {
   "cell_type": "markdown",
   "metadata": {},
   "source": [
    "## Definición de algoritmo de Q-Learning Fase 1"
   ]
  },
  {
   "cell_type": "code",
   "execution_count": 8,
   "metadata": {},
   "outputs": [],
   "source": [
    "def seleccionar_accion_aleatoria(valor, recompensas):\n",
    "    aleatorio = -1\n",
    "    while aleatorio == -1:\n",
    "        casilla = np.random.randint(len(recompensas),size=1)[0]\n",
    "        aleatorio = recompensas[valor][casilla]\n",
    "        \n",
    "    return casilla    "
   ]
  },
  {
   "cell_type": "code",
   "execution_count": 9,
   "metadata": {},
   "outputs": [],
   "source": [
    "def calcula_rendimiento(q):\n",
    "    suma = 0\n",
    "    maximo=1\n",
    "    for i in range(0, len(q)):\n",
    "        suma+=sum(q[i])\n",
    "        if maximo < max(q[i]):\n",
    "            maximo = max(q[i])\n",
    "    return (suma/maximo)*100   "
   ]
  },
  {
   "cell_type": "code",
   "execution_count": 10,
   "metadata": {},
   "outputs": [],
   "source": [
    "def muestra_rendimiento(rendimiento):\n",
    "    plt.title('Rendimiento del algoritmo de Q-Learning')\n",
    "    plt.xlabel('Número de episodios de entrenamiento')\n",
    "    plt.ylabel('Valor del rendimiento del algoritmo')\n",
    "    plt.plot(rendimiento)\n",
    "    plt.show()"
   ]
  },
  {
   "cell_type": "code",
   "execution_count": 11,
   "metadata": {},
   "outputs": [],
   "source": [
    "def calcular_camino(q,inicio,fin):\n",
    "    posicion = inicio\n",
    "    camino = []\n",
    "    camino.append(inicio)\n",
    "    converge = True\n",
    "    representacion = ''\n",
    "    \n",
    "    while posicion != fin:\n",
    "        \n",
    "        maximo = max(q[posicion])\n",
    "        siguiente = q[posicion].index(maximo)\n",
    "        posicion = siguiente\n",
    "    \n",
    "        if(posicion in camino):\n",
    "            print('El algoritmo no ha logrado encontrar un camino óptimo')\n",
    "            converge = False\n",
    "            break\n",
    "\n",
    "        camino.append(siguiente)\n",
    "        \n",
    "    for i in range(len(camino)):\n",
    "        representacion += str(camino[i])+' -> '\n",
    "        \n",
    "    if(converge):    \n",
    "        print('El camino óptimo es: ', representacion[0:-4])\n",
    "        \n",
    "    return camino, converge"
   ]
  },
  {
   "cell_type": "code",
   "execution_count": 12,
   "metadata": {},
   "outputs": [],
   "source": [
    "def q_learning(data, recompensas, q, fin, epochs, gamma, bol_camino, inicio):\n",
    "    rendimiento = []\n",
    "    for epoch in range(0, epochs):\n",
    "        \n",
    "        print('Época = '+str(epoch), 'Completado al '+str((epoch/epochs)*100)+'%')\n",
    "        i = np.random.randint(len(data) ,size=1)[0]\n",
    "        j = np.random.randint(len(data[i]),size=1)[0]\n",
    "        estado = data[i][j]\n",
    "        primero = True\n",
    "        \n",
    "        while (estado != fin) or (primero):\n",
    "            \n",
    "            accion = seleccionar_accion_aleatoria(estado, recompensas)\n",
    "            maximo = max(q[accion])\n",
    "            q[estado][accion] = recompensas[estado][accion] + gamma*maximo\n",
    "            estado = accion\n",
    "            primero = False\n",
    "            \n",
    "        rendimiento.append(calcula_rendimiento(q))\n",
    "        if bol_camino:\n",
    "            calcular_camino(q, inicio, fin)\n",
    "    print('Entrenamiento finalizado')\n",
    "    return q, rendimiento"
   ]
  },
  {
   "cell_type": "markdown",
   "metadata": {},
   "source": [
    "## Definición de algoritmo de Q-Learning Fase 2"
   ]
  },
  {
   "cell_type": "code",
   "execution_count": 13,
   "metadata": {},
   "outputs": [],
   "source": [
    "def selecionar_accion_aleatoria_F2(estado, recompensas, q, epsilon):\n",
    "    aleatorio = np.random.rand(1)[0]\n",
    "    if aleatorio < epsilon:\n",
    "        res = seleccionar_accion_aleatoria(estado, recompensas)\n",
    "    else:\n",
    "        acciones_posibles =[]\n",
    "        posible=True\n",
    "        acciones = recompensas[estado]#acciones que hay, validas e invalidas\n",
    "        counter = 0\n",
    "        #de las acciones me quedo con el indice de las validas\n",
    "        for i in acciones:\n",
    "            if i >= 0:\n",
    "                acciones_posibles.append(counter)\n",
    "            counter+=1\n",
    "        maximo = max(q[estado])#miro el valor maximo de todas las acciones, que por definición tiene que ser >=0\n",
    "        is_not_max = True\n",
    "        #cojo una acción posible aleatoria que sea igual al maximo posible, esto es porque puede haber varios valores dentro\n",
    "        #de la matriz Q que sean igual de grandes, por ejemplo al principio son todo 0, y hay que escojer uno de forma aleatoria\n",
    "        while is_not_max:\n",
    "            aleatorio_maximo = random.choice(acciones_posibles)\n",
    "            if q[estado][aleatorio_maximo] == maximo:\n",
    "                is_not_max = False\n",
    "\n",
    "        res = aleatorio_maximo\n",
    "    return res"
   ]
  },
  {
   "cell_type": "code",
   "execution_count": 14,
   "metadata": {},
   "outputs": [],
   "source": [
    "def q_learning_F2(data, recompensas, q, fin, epochs, gamma, epsilon, alpha, bol_camino, inicio):\n",
    "    rendimiento = []\n",
    "    for epoch in range(0, epochs):\n",
    "        \n",
    "\n",
    "        print('Época = '+str(epoch), 'Completado al '+str((epoch/epochs)*100)+'%')\n",
    "        i = np.random.randint(len(data) ,size=1)[0]\n",
    "        j = np.random.randint(len(data[i]),size=1)[0]\n",
    "        estado = data[i][j]\n",
    "        primero = True\n",
    "        epsilon_prima = epsilon\n",
    "        while (estado != fin) or (primero):\n",
    "            #print(epsilon,alpha)\n",
    "            accion = selecionar_accion_aleatoria_F2(estado, recompensas, q, epsilon)\n",
    "            maximo = max(q[accion])\n",
    "            q[estado][accion] = recompensas[estado][accion] + gamma*maximo\n",
    "            estado = accion\n",
    "            primero = False\n",
    "            epsilon_prima *= alpha\n",
    "\n",
    "        rendimiento.append(calcula_rendimiento(q))\n",
    "\n",
    "        \n",
    "        if bol_camino:\n",
    "            calcular_camino(q, inicio, fin)\n",
    "\n",
    "    print('Entrenamiento finalizado')\n",
    "    return q, rendimiento"
   ]
  },
  {
   "cell_type": "markdown",
   "metadata": {},
   "source": [
    "## Recopilación de todo en una función"
   ]
  },
  {
   "cell_type": "code",
   "execution_count": 15,
   "metadata": {},
   "outputs": [],
   "source": [
    "def ejecuta_QLearning():\n",
    "    \n",
    "    data, recompensas, q, inicio, fin, epochs, gamma = cargar_datos()\n",
    "    \n",
    "    camino_intermedio = int(input('Si quiere que se muestren los caminos intermedios pulse 1: '))\n",
    "    eleccion = int(input('¿Qué algoritmo quieres usar, el 1 o el 2?: '))\n",
    "    bol_camino = camino_intermedio == 1\n",
    "    \n",
    "    if eleccion == 1:\n",
    "        q, rendimiento  = q_learning(data, recompensas, q, fin, epochs, gamma, bol_camino, inicio)\n",
    "    else:\n",
    "        \n",
    "        epsilon = float(input('Introduce el valor del parámetro epsilon: '))\n",
    "        alpha = float(input('Introduce el valor del parámetro alpha: '))\n",
    "        \n",
    "        q, rendimiento  = q_learning_F2(data, recompensas, q, fin, epochs, gamma, epsilon, alpha, bol_camino, inicio)\n",
    "        \n",
    "    print('\\nMatriz Q obtenida =\\n')\n",
    "    for i in range(len(q)):\n",
    "        print(str(i)+':',q[i])\n",
    "        \n",
    "    muestra_rendimiento(rendimiento)\n",
    "        \n",
    "    return q, rendimiento, inicio, fin, recompensas"
   ]
  },
  {
   "cell_type": "markdown",
   "metadata": {},
   "source": [
    "## Creación de representación en forma de Grafo"
   ]
  },
  {
   "cell_type": "code",
   "execution_count": 16,
   "metadata": {},
   "outputs": [],
   "source": [
    "def crea_vertices(recompensas):\n",
    "    vertices = []\n",
    "    \n",
    "    for i in range(0,len(recompensas)):\n",
    "        vertices.append(i)\n",
    "        \n",
    "    return vertices"
   ]
  },
  {
   "cell_type": "code",
   "execution_count": 17,
   "metadata": {},
   "outputs": [],
   "source": [
    "def crea_aristas(recompensas):\n",
    "    aristas = []\n",
    "    \n",
    "    for i in range(0,len(recompensas)):\n",
    "        for j in range(0,len(recompensas)):\n",
    "            if recompensas[i][j]>=0:\n",
    "                aristas.append([i,j])\n",
    "                \n",
    "    return aristas"
   ]
  },
  {
   "cell_type": "code",
   "execution_count": 18,
   "metadata": {},
   "outputs": [],
   "source": [
    "def crea_colores(camino, recompensas, inicio, fin):\n",
    "    color_map = []\n",
    "    for i in range(0, len(recompensas)):\n",
    "        if i in camino:\n",
    "            if i == inicio or i == fin:\n",
    "                color_map.append('yellow')\n",
    "            else:\n",
    "                color_map.append('red')\n",
    "        else:\n",
    "            color_map.append('cyan')\n",
    "    return color_map"
   ]
  },
  {
   "cell_type": "code",
   "execution_count": 19,
   "metadata": {},
   "outputs": [],
   "source": [
    "def muestra_grafo_camino(q,recompensas,inicio,fin):\n",
    "    \n",
    "    camino, converge = calcular_camino(q, inicio, fin)\n",
    "    if converge:\n",
    "        grafo = nx.Graph()\n",
    "        grafo.add_nodes_from(crea_vertices(recompensas))\n",
    "        grafo.add_edges_from(crea_aristas(recompensas))\n",
    "        color_map = crea_colores(camino, recompensas, inicio, fin)\n",
    "        print('''\n",
    "Leyenda:\n",
    "inicio/fin = amarillo\n",
    "camino escogido = rojo\n",
    "resto de casillas = azul\n",
    "        ''')\n",
    "        plt.figure()\n",
    "        nx.draw_spring(grafo, with_labels=True, font_weight='bold', node_color=color_map)\n",
    "        plt.show()"
   ]
  },
  {
   "cell_type": "markdown",
   "metadata": {},
   "source": [
    "# Main:"
   ]
  },
  {
   "cell_type": "code",
   "execution_count": 20,
   "metadata": {
    "scrolled": false
   },
   "outputs": [
    {
     "name": "stdout",
     "output_type": "stream",
     "text": [
      "Si quieres que se genere la matriz de recompensas a partir de un tablero pulsa 0,\n",
      "si quieres cargar tu matriz de recompensas pulsa 1: \n"
     ]
    },
    {
     "ename": "ValueError",
     "evalue": "invalid literal for int() with base 10: ''",
     "output_type": "error",
     "traceback": [
      "\u001b[1;31m---------------------------------------------------------------------------\u001b[0m",
      "\u001b[1;31mValueError\u001b[0m                                Traceback (most recent call last)",
      "\u001b[1;32m<ipython-input-20-e220d37bea6f>\u001b[0m in \u001b[0;36m<module>\u001b[1;34m\u001b[0m\n\u001b[0;32m      5\u001b[0m     \u001b[0mmuestra_grafo_camino\u001b[0m\u001b[1;33m(\u001b[0m\u001b[0mq\u001b[0m\u001b[1;33m,\u001b[0m\u001b[0mrecompensas\u001b[0m\u001b[1;33m,\u001b[0m\u001b[0minicio\u001b[0m\u001b[1;33m,\u001b[0m\u001b[0mfin\u001b[0m\u001b[1;33m)\u001b[0m\u001b[1;33m\u001b[0m\u001b[1;33m\u001b[0m\u001b[0m\n\u001b[0;32m      6\u001b[0m \u001b[1;33m\u001b[0m\u001b[0m\n\u001b[1;32m----> 7\u001b[1;33m \u001b[1;32mif\u001b[0m \u001b[0m__name__\u001b[0m \u001b[1;33m==\u001b[0m \u001b[1;34m\"__main__\"\u001b[0m\u001b[1;33m:\u001b[0m \u001b[0mmain\u001b[0m\u001b[1;33m(\u001b[0m\u001b[1;33m)\u001b[0m\u001b[1;33m\u001b[0m\u001b[1;33m\u001b[0m\u001b[0m\n\u001b[0m",
      "\u001b[1;32m<ipython-input-20-e220d37bea6f>\u001b[0m in \u001b[0;36mmain\u001b[1;34m()\u001b[0m\n\u001b[0;32m      1\u001b[0m \u001b[1;32mdef\u001b[0m \u001b[0mmain\u001b[0m\u001b[1;33m(\u001b[0m\u001b[1;33m)\u001b[0m\u001b[1;33m:\u001b[0m\u001b[1;33m\u001b[0m\u001b[1;33m\u001b[0m\u001b[0m\n\u001b[0;32m      2\u001b[0m \u001b[1;33m\u001b[0m\u001b[0m\n\u001b[1;32m----> 3\u001b[1;33m     \u001b[0mq\u001b[0m\u001b[1;33m,\u001b[0m \u001b[0mrendimiento\u001b[0m\u001b[1;33m,\u001b[0m \u001b[0minicio\u001b[0m\u001b[1;33m,\u001b[0m \u001b[0mfin\u001b[0m\u001b[1;33m,\u001b[0m \u001b[0mrecompensas\u001b[0m \u001b[1;33m=\u001b[0m \u001b[0mejecuta_QLearning\u001b[0m\u001b[1;33m(\u001b[0m\u001b[1;33m)\u001b[0m\u001b[1;33m\u001b[0m\u001b[1;33m\u001b[0m\u001b[0m\n\u001b[0m\u001b[0;32m      4\u001b[0m \u001b[1;33m\u001b[0m\u001b[0m\n\u001b[0;32m      5\u001b[0m     \u001b[0mmuestra_grafo_camino\u001b[0m\u001b[1;33m(\u001b[0m\u001b[0mq\u001b[0m\u001b[1;33m,\u001b[0m\u001b[0mrecompensas\u001b[0m\u001b[1;33m,\u001b[0m\u001b[0minicio\u001b[0m\u001b[1;33m,\u001b[0m\u001b[0mfin\u001b[0m\u001b[1;33m)\u001b[0m\u001b[1;33m\u001b[0m\u001b[1;33m\u001b[0m\u001b[0m\n",
      "\u001b[1;32m<ipython-input-15-82f5a2079621>\u001b[0m in \u001b[0;36mejecuta_QLearning\u001b[1;34m()\u001b[0m\n\u001b[0;32m      1\u001b[0m \u001b[1;32mdef\u001b[0m \u001b[0mejecuta_QLearning\u001b[0m\u001b[1;33m(\u001b[0m\u001b[1;33m)\u001b[0m\u001b[1;33m:\u001b[0m\u001b[1;33m\u001b[0m\u001b[1;33m\u001b[0m\u001b[0m\n\u001b[0;32m      2\u001b[0m \u001b[1;33m\u001b[0m\u001b[0m\n\u001b[1;32m----> 3\u001b[1;33m     \u001b[0mdata\u001b[0m\u001b[1;33m,\u001b[0m \u001b[0mrecompensas\u001b[0m\u001b[1;33m,\u001b[0m \u001b[0mq\u001b[0m\u001b[1;33m,\u001b[0m \u001b[0minicio\u001b[0m\u001b[1;33m,\u001b[0m \u001b[0mfin\u001b[0m\u001b[1;33m,\u001b[0m \u001b[0mepochs\u001b[0m\u001b[1;33m,\u001b[0m \u001b[0mgamma\u001b[0m \u001b[1;33m=\u001b[0m \u001b[0mcargar_datos\u001b[0m\u001b[1;33m(\u001b[0m\u001b[1;33m)\u001b[0m\u001b[1;33m\u001b[0m\u001b[1;33m\u001b[0m\u001b[0m\n\u001b[0m\u001b[0;32m      4\u001b[0m \u001b[1;33m\u001b[0m\u001b[0m\n\u001b[0;32m      5\u001b[0m     \u001b[0mcamino_intermedio\u001b[0m \u001b[1;33m=\u001b[0m \u001b[0mint\u001b[0m\u001b[1;33m(\u001b[0m\u001b[0minput\u001b[0m\u001b[1;33m(\u001b[0m\u001b[1;34m'Si quiere que se muestren los caminos intermedios pulse 1: '\u001b[0m\u001b[1;33m)\u001b[0m\u001b[1;33m)\u001b[0m\u001b[1;33m\u001b[0m\u001b[1;33m\u001b[0m\u001b[0m\n",
      "\u001b[1;32m<ipython-input-7-04ae5f6d9d67>\u001b[0m in \u001b[0;36mcargar_datos\u001b[1;34m()\u001b[0m\n\u001b[0;32m      2\u001b[0m \u001b[1;33m\u001b[0m\u001b[0m\n\u001b[0;32m      3\u001b[0m     tipo = int(input('''Si quieres que se genere la matriz de recompensas a partir de un tablero pulsa 0,\n\u001b[1;32m----> 4\u001b[1;33m si quieres cargar tu matriz de recompensas pulsa 1: '''))\n\u001b[0m\u001b[0;32m      5\u001b[0m \u001b[1;33m\u001b[0m\u001b[0m\n\u001b[0;32m      6\u001b[0m     \u001b[0minicio\u001b[0m \u001b[1;33m=\u001b[0m \u001b[0mint\u001b[0m\u001b[1;33m(\u001b[0m\u001b[0minput\u001b[0m\u001b[1;33m(\u001b[0m\u001b[1;34m'Introduce el valor de la casilla de inicio: '\u001b[0m\u001b[1;33m)\u001b[0m\u001b[1;33m)\u001b[0m\u001b[1;33m\u001b[0m\u001b[1;33m\u001b[0m\u001b[0m\n",
      "\u001b[1;31mValueError\u001b[0m: invalid literal for int() with base 10: ''"
     ]
    }
   ],
   "source": [
    "def main(): \n",
    "    \n",
    "    q, rendimiento, inicio, fin, recompensas = ejecuta_QLearning()\n",
    "    \n",
    "    muestra_grafo_camino(q,recompensas,inicio,fin)    \n",
    "    \n",
    "if __name__ == \"__main__\": main()"
   ]
  },
  {
   "cell_type": "code",
   "execution_count": null,
   "metadata": {},
   "outputs": [],
   "source": [
    "'''\n",
    "i = 0.1\n",
    "while i<=1:\n",
    "    for b in range(0,4):\n",
    "        q = inicializa_Q(data)\n",
    "        q, rendimiento = q_learning_F2(data, recompensas, q, 0, 6, 50, 0.5, 1, i)\n",
    "        print('i = ', i)\n",
    "        muestra_rendimiento(rendimiento)\n",
    "    i+=0.1\n",
    "'''"
   ]
  },
  {
   "cell_type": "code",
   "execution_count": null,
   "metadata": {},
   "outputs": [],
   "source": []
  },
  {
   "cell_type": "code",
   "execution_count": null,
   "metadata": {},
   "outputs": [],
   "source": []
  },
  {
   "cell_type": "code",
   "execution_count": 24,
   "metadata": {},
   "outputs": [
    {
     "name": "stdout",
     "output_type": "stream",
     "text": [
      "Época = 0 Completado al 0.0%\n",
      "El algoritmo no ha logrado encontrar un camino óptimo\n",
      "Época = 1 Completado al 2.0%\n",
      "El algoritmo no ha logrado encontrar un camino óptimo\n",
      "Época = 2 Completado al 4.0%\n",
      "El algoritmo no ha logrado encontrar un camino óptimo\n",
      "Época = 3 Completado al 6.0%\n",
      "El algoritmo no ha logrado encontrar un camino óptimo\n",
      "Época = 4 Completado al 8.0%\n",
      "El algoritmo no ha logrado encontrar un camino óptimo\n",
      "Época = 5 Completado al 10.0%\n",
      "El algoritmo no ha logrado encontrar un camino óptimo\n",
      "Época = 6 Completado al 12.0%\n",
      "El algoritmo no ha logrado encontrar un camino óptimo\n",
      "Época = 7 Completado al 14.000000000000002%\n",
      "El algoritmo no ha logrado encontrar un camino óptimo\n",
      "Época = 8 Completado al 16.0%\n",
      "El algoritmo no ha logrado encontrar un camino óptimo\n",
      "Época = 9 Completado al 18.0%\n",
      "El algoritmo no ha logrado encontrar un camino óptimo\n",
      "Época = 10 Completado al 20.0%\n",
      "El algoritmo no ha logrado encontrar un camino óptimo\n",
      "Época = 11 Completado al 22.0%\n",
      "El camino óptimo es:  0 -> 3 -> 8 -> 7 -> 6 -> 11 -> 12 -> 14\n",
      "Época = 12 Completado al 24.0%\n",
      "El camino óptimo es:  0 -> 3 -> 8 -> 7 -> 6 -> 11 -> 12 -> 14\n",
      "Época = 13 Completado al 26.0%\n",
      "El camino óptimo es:  0 -> 3 -> 8 -> 7 -> 6 -> 11 -> 12 -> 14\n",
      "Época = 14 Completado al 28.000000000000004%\n",
      "El camino óptimo es:  0 -> 3 -> 8 -> 7 -> 6 -> 11 -> 12 -> 14\n",
      "Época = 15 Completado al 30.0%\n",
      "El camino óptimo es:  0 -> 3 -> 8 -> 7 -> 6 -> 11 -> 12 -> 14\n",
      "Época = 16 Completado al 32.0%\n",
      "El camino óptimo es:  0 -> 3 -> 8 -> 7 -> 6 -> 11 -> 12 -> 14\n",
      "Época = 17 Completado al 34.0%\n",
      "El camino óptimo es:  0 -> 3 -> 8 -> 7 -> 6 -> 11 -> 12 -> 14\n",
      "Época = 18 Completado al 36.0%\n",
      "El camino óptimo es:  0 -> 3 -> 8 -> 7 -> 6 -> 11 -> 12 -> 14\n",
      "Época = 19 Completado al 38.0%\n",
      "El camino óptimo es:  0 -> 3 -> 8 -> 7 -> 6 -> 11 -> 12 -> 14\n",
      "Época = 20 Completado al 40.0%\n",
      "El camino óptimo es:  0 -> 3 -> 8 -> 7 -> 6 -> 11 -> 12 -> 14\n",
      "Época = 21 Completado al 42.0%\n",
      "El camino óptimo es:  0 -> 3 -> 8 -> 7 -> 6 -> 11 -> 12 -> 14\n",
      "Época = 22 Completado al 44.0%\n",
      "El camino óptimo es:  0 -> 3 -> 8 -> 7 -> 6 -> 11 -> 12 -> 14\n",
      "Época = 23 Completado al 46.0%\n",
      "El camino óptimo es:  0 -> 3 -> 8 -> 7 -> 6 -> 11 -> 12 -> 14\n",
      "Época = 24 Completado al 48.0%\n",
      "El camino óptimo es:  0 -> 3 -> 8 -> 7 -> 6 -> 11 -> 12 -> 14\n",
      "Época = 25 Completado al 50.0%\n",
      "El camino óptimo es:  0 -> 3 -> 8 -> 7 -> 6 -> 11 -> 12 -> 14\n",
      "Época = 26 Completado al 52.0%\n",
      "El camino óptimo es:  0 -> 3 -> 8 -> 7 -> 6 -> 11 -> 12 -> 14\n",
      "Época = 27 Completado al 54.0%\n",
      "El camino óptimo es:  0 -> 3 -> 8 -> 7 -> 6 -> 11 -> 12 -> 14\n",
      "Época = 28 Completado al 56.00000000000001%\n",
      "El camino óptimo es:  0 -> 3 -> 8 -> 7 -> 6 -> 11 -> 12 -> 14\n",
      "Época = 29 Completado al 57.99999999999999%\n",
      "El camino óptimo es:  0 -> 3 -> 8 -> 7 -> 6 -> 11 -> 12 -> 14\n",
      "Época = 30 Completado al 60.0%\n",
      "El camino óptimo es:  0 -> 3 -> 8 -> 7 -> 6 -> 11 -> 12 -> 14\n",
      "Época = 31 Completado al 62.0%\n",
      "El camino óptimo es:  0 -> 3 -> 8 -> 7 -> 6 -> 11 -> 12 -> 14\n",
      "Época = 32 Completado al 64.0%\n",
      "El camino óptimo es:  0 -> 3 -> 8 -> 7 -> 6 -> 11 -> 12 -> 14\n",
      "Época = 33 Completado al 66.0%\n",
      "El camino óptimo es:  0 -> 3 -> 8 -> 7 -> 6 -> 11 -> 12 -> 14\n",
      "Época = 34 Completado al 68.0%\n",
      "El camino óptimo es:  0 -> 3 -> 8 -> 7 -> 6 -> 11 -> 12 -> 14\n",
      "Época = 35 Completado al 70.0%\n",
      "El camino óptimo es:  0 -> 3 -> 8 -> 7 -> 6 -> 11 -> 12 -> 14\n",
      "Época = 36 Completado al 72.0%\n",
      "El camino óptimo es:  0 -> 3 -> 8 -> 7 -> 6 -> 11 -> 12 -> 14\n",
      "Época = 37 Completado al 74.0%\n",
      "El camino óptimo es:  0 -> 3 -> 8 -> 7 -> 6 -> 11 -> 12 -> 14\n",
      "Época = 38 Completado al 76.0%\n",
      "El camino óptimo es:  0 -> 3 -> 8 -> 7 -> 6 -> 11 -> 12 -> 14\n",
      "Época = 39 Completado al 78.0%\n",
      "El camino óptimo es:  0 -> 3 -> 8 -> 7 -> 6 -> 11 -> 12 -> 14\n",
      "Época = 40 Completado al 80.0%\n",
      "El camino óptimo es:  0 -> 3 -> 8 -> 7 -> 6 -> 11 -> 12 -> 14\n",
      "Época = 41 Completado al 82.0%\n",
      "El camino óptimo es:  0 -> 3 -> 8 -> 7 -> 6 -> 11 -> 12 -> 14\n",
      "Época = 42 Completado al 84.0%\n",
      "El camino óptimo es:  0 -> 3 -> 8 -> 7 -> 6 -> 11 -> 12 -> 14\n",
      "Época = 43 Completado al 86.0%\n",
      "El camino óptimo es:  0 -> 3 -> 8 -> 7 -> 6 -> 11 -> 12 -> 14\n",
      "Época = 44 Completado al 88.0%\n",
      "El camino óptimo es:  0 -> 3 -> 8 -> 7 -> 6 -> 11 -> 12 -> 14\n",
      "Época = 45 Completado al 90.0%\n",
      "El camino óptimo es:  0 -> 3 -> 8 -> 7 -> 6 -> 11 -> 12 -> 14\n",
      "Época = 46 Completado al 92.0%\n",
      "El camino óptimo es:  0 -> 3 -> 8 -> 7 -> 6 -> 11 -> 12 -> 14\n",
      "Época = 47 Completado al 94.0%\n",
      "El camino óptimo es:  0 -> 3 -> 8 -> 7 -> 6 -> 11 -> 12 -> 14\n",
      "Época = 48 Completado al 96.0%\n",
      "El camino óptimo es:  0 -> 3 -> 8 -> 7 -> 6 -> 11 -> 12 -> 14\n",
      "Época = 49 Completado al 98.0%\n",
      "El camino óptimo es:  0 -> 3 -> 8 -> 7 -> 6 -> 11 -> 12 -> 14\n",
      "Entrenamiento finalizado\n"
     ]
    },
    {
     "data": {
      "image/png": "[encoded data removed]",
      "text/plain": [
       "<Figure size 432x288 with 1 Axes>"
      ]
     },
     "metadata": {
      "needs_background": "light"
     },
     "output_type": "display_data"
    },
    {
     "name": "stdout",
     "output_type": "stream",
     "text": [
      "matriz Q====================\n",
      "[0, 0, 0, 27.734375, 0, 0, 0, 0, 0, 0, 0, 0, 0, 0, 0]\n",
      "[0, 0, 0.0, 0, 51.875, 0, 0, 0, 0, 0, 0, 0, 0, 0, 0]\n",
      "[0, 0.0, 0, 17.734375, 0, 0.0, 0, 0.0, 0, 0, 0, 0, 0, 0, 0]\n",
      "[13.28125, 0, 0.0, 0, 0, 0, 0, 0, 35.46875, 0, 0, 0, 0, 0, 0]\n",
      "[0, 5.0, 0, 0, 0, 0.0, 0, 0, 0, 83.75, 0, 0, 0, 0, 0]\n",
      "[0, 0, 0.0, 0, 0.0, 0, 0, 0, 0, 0, 31.875, 0, 0, 0, 0]\n",
      "[0, 0, 0, 0, 0, 11.25, 0, 15.0, 0, 0, 0, 83.75, 0, 0, 0]\n",
      "[0, 0, 0.0, 0, 0, 0, 61.875, 0, 25.46875, 0, 0, 0, 0, 0, 0]\n",
      "[0, 0, 0, 11.666666665114462, 0, 0, 0, 50.9375, 0, 0, 0, 0, 0, 0, 0]\n",
      "[0, 0, 0, 0, 32.5, 0, 0, 0, 0, 0, 0.0, 0, 0, 127.5, 0]\n",
      "[0, 0, 0, 0, 0, 0, 0, 0, 0, 63.75, 0, 0, 0, 0, 0]\n",
      "[0, 0, 0, 0, 0, 0, 41.875, 0, 0, 0, 31.875, 0, 127.5, 0, 0]\n",
      "[0, 0, 0, 0, 0, 0, 0, 0, 0, 0, 0, 0, 0, 0, 175.0]\n",
      "[0, 0, 0, 0, 0, 0, 0, 0, 0, 26.66015625, 0, 0, 0, 0, 175.0]\n",
      "[0, 0, 0, 0, 0, 0, 0, 0, 0, 0, 0, 0, 0, 0, 150.0]\n",
      "matriz R====================\n",
      "[-1, 10, -1, 10, -1, -1, -1, -1, -1, -1, -1, -1, -1, -1, -1]\n",
      "[0, -1, 0, -1, 10, -1, -1, -1, -1, -1, -1, -1, -1, -1, -1]\n",
      "[-1, 0, -1, 0, -1, 0, -1, 0, -1, -1, -1, -1, -1, -1, -1]\n",
      "[0, -1, 0, -1, -1, -1, -1, -1, 10, -1, -1, -1, -1, -1, -1]\n",
      "[-1, 0, -1, -1, -1, 0, -1, -1, -1, 20, -1, -1, -1, -1, -1]\n",
      "[-1, -1, 0, -1, 0, -1, 0, -1, -1, -1, 0, -1, -1, -1, -1]\n",
      "[-1, -1, -1, -1, -1, 0, -1, 0, -1, -1, -1, 20, -1, -1, -1]\n",
      "[-1, -1, 0, -1, -1, -1, 20, -1, 0, -1, -1, -1, -1, -1, -1]\n",
      "[-1, -1, -1, 0, -1, -1, -1, 20, -1, -1, -1, -1, -1, -1, -1]\n",
      "[-1, -1, -1, -1, 0, -1, -1, -1, -1, -1, 0, -1, -1, 40, -1]\n",
      "[-1, -1, -1, -1, -1, 0, -1, -1, -1, 0, -1, 0, -1, -1, 100]\n",
      "[-1, -1, -1, -1, -1, -1, 0, -1, -1, -1, 0, -1, 40, -1, -1]\n",
      "[-1, -1, -1, -1, -1, -1, -1, -1, -1, -1, -1, 0, -1, -1, 100]\n",
      "[-1, -1, -1, -1, -1, -1, -1, -1, -1, 0, -1, -1, -1, -1, 100]\n",
      "[-1, -1, -1, -1, -1, -1, -1, -1, -1, -1, 0, -1, 0, 0, 100]\n"
     ]
    }
   ],
   "source": [
    "data = cargar_datos_txt('./ejemplo2.txt')\n",
    "fin=14\n",
    "recompensas = cargar_datos_txt('./recompensas2.txt')\n",
    "#recompensas = crear_matriz_recompensas(data,fin)\n",
    "q = inicializa_Q(recompensas)\n",
    "gamma = 0.5\n",
    "alpha=0.5\n",
    "epsilon= 0.1\n",
    "bol_camino = True\n",
    "inicio = 0\n",
    "epochs= 50\n",
    "#q, rendimiento  = q_learning(data, recompensas, q, fin, epochs, gamma, True, inicio)\n",
    "q, rendimiento  = q_learning_F2(data, recompensas, q, fin, epochs, gamma,epsilon, alpha, True, inicio)\n",
    "muestra_rendimiento(rendimiento)\n",
    "print('matriz Q====================')\n",
    "for i in range(0,len(q)):\n",
    "    print(q[i])\n",
    "print('matriz R====================')\n",
    "for i in range(0,len(recompensas)):\n",
    "    print(recompensas[i])"
   ]
  },
  {
   "cell_type": "code",
   "execution_count": null,
   "metadata": {},
   "outputs": [],
   "source": []
  },
  {
   "cell_type": "code",
   "execution_count": null,
   "metadata": {},
   "outputs": [],
   "source": []
  }
 ],
 "metadata": {
  "kernelspec": {
   "display_name": "Python 3",
   "language": "python",
   "name": "python3"
  },
  "language_info": {
   "codemirror_mode": {
    "name": "ipython",
    "version": 3
   },
   "file_extension": ".py",
   "mimetype": "text/x-python",
   "name": "python",
   "nbconvert_exporter": "python",
   "pygments_lexer": "ipython3",
   "version": "3.7.6"
  }
 },
 "nbformat": 4,
 "nbformat_minor": 2
}
