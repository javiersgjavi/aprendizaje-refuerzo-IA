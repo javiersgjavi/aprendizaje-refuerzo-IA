{
 "cells": [
  {
   "cell_type": "code",
   "execution_count": 189,
   "metadata": {},
   "outputs": [],
   "source": [
    "import os\n",
    "import csv\n",
    "import numpy as np\n",
    "import matplotlib.pyplot as plt"
   ]
  },
  {
   "cell_type": "code",
   "execution_count": 3,
   "metadata": {},
   "outputs": [],
   "source": [
    "def cargar_datos_txt(fichero):\n",
    "    path = os.path.join(os.getcwd(), fichero)\n",
    "    lineas = csv.reader(open(path, newline='\\n'))\n",
    "    data = []\n",
    "        \n",
    "        \n",
    "    for linea in lineas:\n",
    "        fila = []\n",
    "        for i in range(0, len(linea)):\n",
    "            fila.append(int(linea[i]))\n",
    "        data.append(fila)\n",
    "        \n",
    "    return data"
   ]
  },
  {
   "cell_type": "code",
   "execution_count": 4,
   "metadata": {},
   "outputs": [],
   "source": [
    "def encuentra_posicion(valor, data):\n",
    "    for i in range(0, len(data)):\n",
    "        for j in range(0, len(data[i])): \n",
    "            \n",
    "            if valor == data[i][j]:\n",
    "                x, y = i,j\n",
    "                break\n",
    "    return x, y\n",
    "            "
   ]
  },
  {
   "cell_type": "code",
   "execution_count": 78,
   "metadata": {},
   "outputs": [],
   "source": [
    "def crear_matriz_recompensas(data, fin):\n",
    "    \n",
    "    cantidad = len(data)*len(data[0])\n",
    "    \n",
    "    lista = []\n",
    "    for i in range(0, cantidad):\n",
    "        lista.append([-1]*cantidad)\n",
    "    \n",
    "    #Definir vecinos\n",
    "    for i in range(0, len(data)):\n",
    "        \n",
    "        for j in range(0, len(data[i])):\n",
    "            actual = data[i][j]\n",
    "            \n",
    "        \n",
    "            \n",
    "            if len(data)  > i+1:\n",
    "                vecino1 = data[i+1][j]\n",
    "                if vecino1 == fin:\n",
    "                    lista[actual][vecino1] = 100\n",
    "                else:\n",
    "                    lista[actual][vecino1] = 0\n",
    "                    \n",
    "            if 0 <= i-1:\n",
    "                vecino2 = data[i-1][j]\n",
    "                if vecino2 == fin:\n",
    "                    lista[actual][vecino2] = 100\n",
    "                else:\n",
    "                    lista[actual][vecino2] = 0\n",
    "                    \n",
    "            if len(data[i]) > j+1:\n",
    "                vecino3 = data[i][j+1]\n",
    "                if vecino3 == fin:\n",
    "                    lista[actual][vecino3] = 100\n",
    "                else:\n",
    "                    lista[actual][vecino3] = 0\n",
    "                \n",
    "            if 0 <= j-1:\n",
    "                vecino4 = data[i][j-1]\n",
    "                if vecino4 == fin:\n",
    "                    lista[actual][vecino4] = 100\n",
    "                else:\n",
    "                    lista[actual][vecino4] = 0\n",
    "            \n",
    "            \n",
    "    return lista\n",
    "            \n",
    "            \n",
    "    "
   ]
  },
  {
   "cell_type": "code",
   "execution_count": 6,
   "metadata": {},
   "outputs": [],
   "source": [
    "#Inicializa la matriz Q para el algorimo de Q-Learning, con los pesos de cada\n",
    "#acción inicializados a 0\n",
    "def inicializa_Q(data):\n",
    "    cantidad = len(data)*len(data[0])\n",
    "    \n",
    "    lista = []\n",
    "    for i in range(0, cantidad):\n",
    "        lista.append([0]*cantidad)\n",
    "        \n",
    "    return lista\n",
    "    "
   ]
  },
  {
   "cell_type": "code",
   "execution_count": 80,
   "metadata": {},
   "outputs": [],
   "source": [
    "def cargar_datos(fichero):\n",
    "    \n",
    "    matriz = cargar_datos_txt(fichero)\n",
    "    \n",
    "    inicio = int(input('Introduce el valor de la casilla de inicio: '))\n",
    "    \n",
    "    fin = int(input('Introduce el valor de la casilla objetivo: '))\n",
    "    \n",
    "    epochs = int(input('Introduce el número de episodios de entrenamiento: '))\n",
    "    \n",
    "    gamma = float(input('Introduce el valor del factor de aprendizaje gamma: '))\n",
    "    \n",
    "    epsilon = float(input('Introduce el valor del parámetro epsilon: '))\n",
    "    \n",
    "    alpha = float(input('Introduce el valor del parámetro alpha: '))\n",
    "    \n",
    "    recompensas = crear_matriz_recompensas(data, fin)\n",
    "    \n",
    "    q = inicializa_Q(data)\n",
    "    \n",
    "    return data, recompensas, q, inicio, fin, epochs, gamma, epsilon, alpha"
   ]
  },
  {
   "cell_type": "code",
   "execution_count": 161,
   "metadata": {},
   "outputs": [],
   "source": [
    "def seleccionar_accion_aleatoria(valor, recompensas):\n",
    "    aleatorio = -1\n",
    "    while aleatorio == -1:\n",
    "        casilla = np.random.randint(len(recompensas),size=1)[0]\n",
    "        aleatorio = recompensas[valor][casilla]\n",
    "    return casilla    "
   ]
  },
  {
   "cell_type": "code",
   "execution_count": 195,
   "metadata": {},
   "outputs": [],
   "source": [
    "def calcula_rendimiento(q):\n",
    "    suma = 0\n",
    "    maximo=1\n",
    "    for i in range(0, len(q)):\n",
    "        suma+=sum(q[i])\n",
    "        if maximo < max(q[i]):\n",
    "            maximo = max(q[i])\n",
    "    return (suma/maximo)*100\n",
    "    "
   ]
  },
  {
   "cell_type": "code",
   "execution_count": 211,
   "metadata": {},
   "outputs": [],
   "source": [
    "def muestra_rendimiento(rendimiento):\n",
    "    plt.title('Rendimiento del algoritmo de Q-Learning')\n",
    "    plt.xlabel('Número de episodios de entrenamiento')\n",
    "    plt.ylabel('Valor del rendimiento del algoritmo')\n",
    "    plt.plot(rendimiento)\n",
    "    plt.show()"
   ]
  },
  {
   "cell_type": "code",
   "execution_count": 200,
   "metadata": {},
   "outputs": [],
   "source": [
    "def q_learning(data, recompensas, q, inicio, fin, epochs, gamma, epsilon, alpha):\n",
    "    rendimiento = []\n",
    "    for epoch in range(0, epochs):\n",
    "        \n",
    "        print('Epoca = '+str(epoch), 'Completado al '+str((epoch/epochs)*100)+'%')\n",
    "        i = np.random.randint(len(data) ,size=1)[0]\n",
    "        j = np.random.randint(len(data[i]),size=1)[0]\n",
    "        estado = data[i][j]\n",
    "        \n",
    "        while estado != fin:\n",
    "            \n",
    "            accion = seleccionar_accion_aleatoria(estado, recompensas)\n",
    "            maximo = max(q[accion])\n",
    "            q[estado][accion] = recompensas[estado][accion] + gamma*maximo\n",
    "            estado = accion\n",
    "            \n",
    "        rendimiento.append(calcula_rendimiento(q))\n",
    "    print('Epoca = '+str(epochs), 'Completado al '+str((epochs/epochs)*100)+'%')\n",
    "    return q, rendimiento\n",
    "    "
   ]
  },
  {
   "cell_type": "code",
   "execution_count": 214,
   "metadata": {
    "scrolled": false
   },
   "outputs": [
    {
     "name": "stdout",
     "output_type": "stream",
     "text": [
      "Introduce el valor de la casilla de inicio: 0\n",
      "Introduce el valor de la casilla objetivo: 6\n",
      "Introduce el número de episodios de entrenamiento: 25\n",
      "Introduce el valor del factor de aprendizaje gamma: 0.5\n",
      "Introduce el valor del parámetro epsilon: 1\n",
      "Introduce el valor del parámetro alpha: 1\n",
      "Epoca = 0 Completado al 0.0%\n",
      "Epoca = 1 Completado al 4.0%\n",
      "Epoca = 2 Completado al 8.0%\n",
      "Epoca = 3 Completado al 12.0%\n",
      "Epoca = 4 Completado al 16.0%\n",
      "Epoca = 5 Completado al 20.0%\n",
      "Epoca = 6 Completado al 24.0%\n",
      "Epoca = 7 Completado al 28.000000000000004%\n",
      "Epoca = 8 Completado al 32.0%\n",
      "Epoca = 9 Completado al 36.0%\n",
      "Epoca = 10 Completado al 40.0%\n",
      "Epoca = 11 Completado al 44.0%\n",
      "Epoca = 12 Completado al 48.0%\n",
      "Epoca = 13 Completado al 52.0%\n",
      "Epoca = 14 Completado al 56.00000000000001%\n",
      "Epoca = 15 Completado al 60.0%\n",
      "Epoca = 16 Completado al 64.0%\n",
      "Epoca = 17 Completado al 68.0%\n",
      "Epoca = 18 Completado al 72.0%\n",
      "Epoca = 19 Completado al 76.0%\n",
      "Epoca = 20 Completado al 80.0%\n",
      "Epoca = 21 Completado al 84.0%\n",
      "Epoca = 22 Completado al 88.0%\n",
      "Epoca = 23 Completado al 92.0%\n",
      "Epoca = 24 Completado al 96.0%\n",
      "Epoca = 25 Completado al 100.0%\n",
      "\n",
      "Matriz Q obtenida =\n",
      " [[0, 3.125, 0, 3.125, 0, 0, 0, 0, 0, 0, 0, 0, 0, 0, 0], [1.5625, 0, 6.25, 0, 6.25, 0, 0, 0, 0, 0, 0, 0, 0, 0, 0], [0, 3.125, 0, 3.125, 0, 12.5, 0, 0, 0, 0, 0, 12.5, 0, 0, 0], [1.5625, 0, 6.25, 0, 0, 0, 0, 0, 6.25, 0, 0, 0, 0, 0, 0], [0, 3.125, 0, 0, 0, 12.5, 0, 12.5, 0, 0, 0, 0, 0, 0, 0], [0, 0, 6.25, 0, 6.25, 0, 0, 0, 0, 0, 25.0, 0, 0, 25.0, 0], [0, 0, 0, 0, 0, 0, 0, 0, 0, 0, 0, 0, 0, 0, 0], [0, 0, 0, 0, 6.25, 0, 0, 0, 0, 25.0, 25.0, 0, 0, 0, 0], [0, 0, 0, 3.125, 0, 0, 0, 0, 0, 0, 0, 12.5, 0, 0, 0], [0, 0, 0, 0, 0, 0, 0, 12.5, 0, 0, 0, 0, 50.0, 0, 0], [0, 0, 0, 0, 0, 12.5, 0, 12.5, 0, 0, 0, 0, 50.0, 0, 50.0], [0, 0, 6.25, 0, 0, 0, 0, 0, 6.25, 0, 0, 0, 0, 25.0, 0], [0, 0, 0, 0, 0, 0, 100.0, 0, 0, 25.0, 25.0, 0, 0, 0, 0], [0, 0, 0, 0, 0, 12.5, 0, 0, 0, 0, 0, 12.5, 0, 0, 50.0], [0, 0, 0, 0, 0, 0, 100.0, 0, 0, 0, 25.0, 0, 0, 25.0, 0]]\n"
     ]
    },
    {
     "data": {
      "image/png": "[encoded data removed]",
      "text/plain": [
       "<Figure size 432x288 with 1 Axes>"
      ]
     },
     "metadata": {
      "needs_background": "light"
     },
     "output_type": "display_data"
    }
   ],
   "source": [
    "def main(): \n",
    "    data, recompensas, q, inicio, fin, epochs, gamma, epsilon, alpha = cargar_datos('./parametros.txt')\n",
    "    q, rendimiento = q_learning(data, recompensas, q, inicio, fin, epochs, gamma, epsilon, alpha)\n",
    "    print('\\nMatriz Q obtenida =\\n',q)\n",
    "    muestra_rendimiento(rendimiento)\n",
    "if __name__ == \"__main__\": main()\n",
    "   "
   ]
  },
  {
   "cell_type": "code",
   "execution_count": 216,
   "metadata": {},
   "outputs": [
    {
     "data": {
      "text/plain": [
       "\"matriz = cargar_datos_txt('./parametros.txt')\\nrecompensas = crear_matriz_recompensas(matriz,14)\\nprint(len(recompensas))\\nq = inicializa_Q(matriz)\\nq, rendimiento = q_learning(matriz, recompensas, q, 0, 14, 25, 0.1, 1, 2)\""
      ]
     },
     "execution_count": 216,
     "metadata": {},
     "output_type": "execute_result"
    }
   ],
   "source": [
    "'''matriz = cargar_datos_txt('./parametros.txt')\n",
    "recompensas = crear_matriz_recompensas(matriz,14)\n",
    "print(len(recompensas))\n",
    "q = inicializa_Q(matriz)\n",
    "q, rendimiento = q_learning(matriz, recompensas, q, 0, 14, 25, 0.1, 1, 2)'''"
   ]
  },
  {
   "cell_type": "code",
   "execution_count": null,
   "metadata": {},
   "outputs": [],
   "source": []
  },
  {
   "cell_type": "code",
   "execution_count": null,
   "metadata": {},
   "outputs": [],
   "source": []
  }
 ],
 "metadata": {
  "kernelspec": {
   "display_name": "Python 3",
   "language": "python",
   "name": "python3"
  },
  "language_info": {
   "codemirror_mode": {
    "name": "ipython",
    "version": 3
   },
   "file_extension": ".py",
   "mimetype": "text/x-python",
   "name": "python",
   "nbconvert_exporter": "python",
   "pygments_lexer": "ipython3",
   "version": "3.7.4"
  }
 },
 "nbformat": 4,
 "nbformat_minor": 2
}
