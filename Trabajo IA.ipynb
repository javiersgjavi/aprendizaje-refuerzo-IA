{
 "cells": [
  {
   "cell_type": "code",
   "execution_count": 1,
   "metadata": {},
   "outputs": [],
   "source": [
    "import os\n",
    "import csv\n",
    "import numpy as np\n",
    "import matplotlib.pyplot as plt\n",
    "import networkx as nx"
   ]
  },
  {
   "cell_type": "markdown",
   "metadata": {},
   "source": [
    "## Definición de la carga de datos"
   ]
  },
  {
   "cell_type": "code",
   "execution_count": 2,
   "metadata": {},
   "outputs": [],
   "source": [
    "def cargar_datos_txt(fichero):\n",
    "    path = os.path.join(os.getcwd(), fichero)\n",
    "    lineas = csv.reader(open(path, newline='\\n'))\n",
    "    data = []\n",
    "        \n",
    "        \n",
    "    for linea in lineas:\n",
    "        fila = []\n",
    "        for i in range(0, len(linea)):\n",
    "            fila.append(int(linea[i]))\n",
    "        data.append(fila)\n",
    "        \n",
    "    return data"
   ]
  },
  {
   "cell_type": "code",
   "execution_count": 3,
   "metadata": {},
   "outputs": [],
   "source": [
    "def crear_matriz_recompensas(data, fin):\n",
    "    \n",
    "    cantidad = len(data)*len(data[0])\n",
    "    \n",
    "    lista = []\n",
    "    for i in range(0, cantidad):\n",
    "        lista.append([-1]*cantidad)\n",
    "    \n",
    "    #Definir vecinos\n",
    "    for i in range(0, len(data)):\n",
    "        \n",
    "        for j in range(0, len(data[i])):\n",
    "            actual = data[i][j]\n",
    "            \n",
    "        \n",
    "            \n",
    "            if len(data)  > i+1:\n",
    "                vecino1 = data[i+1][j]\n",
    "                if vecino1 == fin:\n",
    "                    lista[actual][vecino1] = 100\n",
    "                else:\n",
    "                    lista[actual][vecino1] = 0\n",
    "                    \n",
    "            if 0 <= i-1:\n",
    "                vecino2 = data[i-1][j]\n",
    "                if vecino2 == fin:\n",
    "                    lista[actual][vecino2] = 100\n",
    "                else:\n",
    "                    lista[actual][vecino2] = 0\n",
    "                    \n",
    "            if len(data[i]) > j+1:\n",
    "                vecino3 = data[i][j+1]\n",
    "                if vecino3 == fin:\n",
    "                    lista[actual][vecino3] = 100\n",
    "                else:\n",
    "                    lista[actual][vecino3] = 0\n",
    "                \n",
    "            if 0 <= j-1:\n",
    "                vecino4 = data[i][j-1]\n",
    "                if vecino4 == fin:\n",
    "                    lista[actual][vecino4] = 100\n",
    "                else:\n",
    "                    lista[actual][vecino4] = 0\n",
    "            \n",
    "    lista[fin][fin] = 100\n",
    "    return lista\n",
    "            \n",
    "            \n",
    "    "
   ]
  },
  {
   "cell_type": "code",
   "execution_count": 4,
   "metadata": {},
   "outputs": [],
   "source": [
    "#Inicializa la matriz Q para el algorimo de Q-Learning, con los pesos de cada\n",
    "#acción inicializados a 0\n",
    "def inicializa_Q(recompensas):\n",
    "   \n",
    "    lista = []\n",
    "    for i in range(0, len(recompensas)):\n",
    "        lista.append([0]*len(recompensas))\n",
    "     \n",
    "    return lista "
   ]
  },
  {
   "cell_type": "code",
   "execution_count": 5,
   "metadata": {},
   "outputs": [],
   "source": [
    "def carga_matriz_recompensas(fichero):\n",
    "    datos = cargar_datos_txt(fichero)\n",
    "    return datos"
   ]
  },
  {
   "cell_type": "code",
   "execution_count": 6,
   "metadata": {},
   "outputs": [],
   "source": [
    "def cargar_datos():\n",
    "    \n",
    "    tipo = int(input('''Si quieres que se genere la matriz de recompensas a partir de un tablero pulsa 0,\n",
    "si quieres cargar tu matriz de recompensas pulsa 1: '''))\n",
    "    \n",
    "    inicio = int(input('Introduce el valor de la casilla de inicio: '))\n",
    "    \n",
    "    fin = int(input('Introduce el valor de la casilla objetivo: '))\n",
    "    \n",
    "    epochs = int(input('Introduce el número de episodios de entrenamiento: '))\n",
    "    \n",
    "    gamma = float(input('Introduce el valor del factor de aprendizaje gamma: '))\n",
    "    \n",
    "    tablero = str(input('Introduce el nombre del fichero desde el que quieres cargar los datos: '))\n",
    "    \n",
    "    tablero = './' + tablero + '.txt'\n",
    "    \n",
    "    if tipo == 0:\n",
    "        \n",
    "        data = cargar_datos_txt(tablero)\n",
    "    \n",
    "        recompensas = crear_matriz_recompensas(data, fin)\n",
    "    \n",
    "        q = inicializa_Q(recompensas)\n",
    "        \n",
    "    else:\n",
    "        \n",
    "        data = cargar_datos_txt(tablero)\n",
    "        \n",
    "        recompensas = str(input('Introduce el nombre del fichero desde el que quieres cargar la matriz de recompensas: '))\n",
    "    \n",
    "        recompensas = './' + recompensas + '.txt'\n",
    "        \n",
    "        recompensas = cargar_datos_txt(recompensas)\n",
    "        \n",
    "        q = inicializa_Q(recompensas)\n",
    "        \n",
    "    \n",
    "    return data, recompensas, q, inicio, fin, epochs, gamma"
   ]
  },
  {
   "cell_type": "markdown",
   "metadata": {},
   "source": [
    "## Definición de algoritmo de Q-Learning Fase 1"
   ]
  },
  {
   "cell_type": "code",
   "execution_count": 7,
   "metadata": {},
   "outputs": [],
   "source": [
    "def seleccionar_accion_aleatoria(valor, recompensas):\n",
    "    aleatorio = -1\n",
    "    while aleatorio == -1:\n",
    "        casilla = np.random.randint(len(recompensas),size=1)[0]\n",
    "        aleatorio = recompensas[valor][casilla]\n",
    "        \n",
    "    return casilla    "
   ]
  },
  {
   "cell_type": "code",
   "execution_count": 8,
   "metadata": {},
   "outputs": [],
   "source": [
    "def calcula_rendimiento(q):\n",
    "    suma = 0\n",
    "    maximo=1\n",
    "    for i in range(0, len(q)):\n",
    "        suma+=sum(q[i])\n",
    "        if maximo < max(q[i]):\n",
    "            maximo = max(q[i])\n",
    "    return (suma/maximo)*100   "
   ]
  },
  {
   "cell_type": "code",
   "execution_count": 9,
   "metadata": {},
   "outputs": [],
   "source": [
    "def muestra_rendimiento(rendimiento):\n",
    "    plt.title('Rendimiento del algoritmo de Q-Learning')\n",
    "    plt.xlabel('Número de episodios de entrenamiento')\n",
    "    plt.ylabel('Valor del rendimiento del algoritmo')\n",
    "    plt.plot(rendimiento)\n",
    "    plt.show()"
   ]
  },
  {
   "cell_type": "code",
   "execution_count": 10,
   "metadata": {},
   "outputs": [],
   "source": [
    "def calcular_camino(q,inicio,fin):\n",
    "    posicion = inicio\n",
    "    camino = []\n",
    "    camino.append(inicio)\n",
    "    converge = True\n",
    "    representacion = ''\n",
    "    \n",
    "    while posicion != fin:\n",
    "        \n",
    "        maximo = max(q[posicion])\n",
    "        siguiente = q[posicion].index(maximo)\n",
    "        posicion = siguiente\n",
    "    \n",
    "        if(posicion in camino):\n",
    "            print('El algoritmo no ha logrado encontrar un camino óptimo')\n",
    "            converge = False\n",
    "            break\n",
    "\n",
    "        camino.append(siguiente)\n",
    "        \n",
    "    for i in range(len(camino)):\n",
    "        representacion += str(camino[i])+' -> '\n",
    "        \n",
    "    if(converge):    \n",
    "        print('El camino óptimo es: ', representacion[0:-4])\n",
    "        \n",
    "    return camino, converge"
   ]
  },
  {
   "cell_type": "code",
   "execution_count": 11,
   "metadata": {},
   "outputs": [],
   "source": [
    "def q_learning(data, recompensas, q, fin, epochs, gamma, bol_camino, inicio):\n",
    "    rendimiento = []\n",
    "    for epoch in range(0, epochs):\n",
    "        \n",
    "        print('Época = '+str(epoch), 'Completado al '+str((epoch/epochs)*100)+'%')\n",
    "        i = np.random.randint(len(data) ,size=1)[0]\n",
    "        j = np.random.randint(len(data[i]),size=1)[0]\n",
    "        estado = data[i][j]\n",
    "        primero = True\n",
    "        \n",
    "        while (estado != fin) or (primero):\n",
    "            \n",
    "            accion = seleccionar_accion_aleatoria(estado, recompensas)\n",
    "            maximo = max(q[accion])\n",
    "            q[estado][accion] = recompensas[estado][accion] + gamma*maximo\n",
    "            estado = accion\n",
    "            primero = False\n",
    "            \n",
    "        rendimiento.append(calcula_rendimiento(q))\n",
    "        if bol_camino:\n",
    "            calcular_camino(q, inicio, fin)\n",
    "    print('Entrenamiento finalizado')\n",
    "    return q, rendimiento"
   ]
  },
  {
   "cell_type": "markdown",
   "metadata": {},
   "source": [
    "## Definición de algoritmo de Q-Learning Fase 2"
   ]
  },
  {
   "cell_type": "code",
   "execution_count": 12,
   "metadata": {},
   "outputs": [],
   "source": [
    "def selecionar_accion_aleatoria_F2(estado, recompensas, q, epsilon):\n",
    "    aleatorio = np.random.rand(1)[0]\n",
    "    \n",
    "    if aleatorio < epsilon:\n",
    "        res = seleccionar_accion_aleatoria(estado, recompensas)\n",
    "    else:\n",
    "        maximo = max(q[estado])\n",
    "        res = q[estado].index(maximo)\n",
    "    return res"
   ]
  },
  {
   "cell_type": "code",
   "execution_count": 13,
   "metadata": {},
   "outputs": [],
   "source": [
    "def q_learning_F2(data, recompensas, q, fin, epochs, gamma, epsilon, alpha, bol_camino, inicio):\n",
    "    rendimiento = []\n",
    "    for epoch in range(0, epochs):\n",
    "        \n",
    "        print('Época = '+str(epoch), 'Completado al '+str((epoch/epochs)*100)+'%')\n",
    "        i = np.random.randint(len(data) ,size=1)[0]\n",
    "        j = np.random.randint(len(data[i]),size=1)[0]\n",
    "        estado = data[i][j]\n",
    "        primero = True\n",
    "        \n",
    "        while (estado != fin) or (primero):\n",
    "            \n",
    "            accion = selecionar_accion_aleatoria_F2(estado, recompensas, q, epsilon)\n",
    "            maximo = max(q[accion])\n",
    "            q[estado][accion] = recompensas[estado][accion] + gamma*maximo\n",
    "            estado = accion\n",
    "            primero = False\n",
    "            \n",
    "        rendimiento.append(calcula_rendimiento(q))\n",
    "        epsilon *= alpha\n",
    "        if bol_camino:\n",
    "            calcular_camino(q, inicio, fin)\n",
    "        \n",
    "    print('Entrenamiento finalizado')\n",
    "    return q, rendimiento"
   ]
  },
  {
   "cell_type": "markdown",
   "metadata": {},
   "source": [
    "## Recopilación de todo en una función"
   ]
  },
  {
   "cell_type": "code",
   "execution_count": 21,
   "metadata": {},
   "outputs": [],
   "source": [
    "def ejecuta_QLearning():\n",
    "    \n",
    "    data, recompensas, q, inicio, fin, epochs, gamma = cargar_datos()\n",
    "    \n",
    "    camino_intermedio = int(input('Si quiere que se muestren los caminos intermedios pulse 1: '))\n",
    "    eleccion = int(input('¿Qué algoritmo quieres usar, el 1 o el 2?: '))\n",
    "    bol_camino = camino_intermedio == 1\n",
    "    \n",
    "    if eleccion == 1:\n",
    "        q, rendimiento  = q_learning(data, recompensas, q, fin, epochs, gamma, bol_camino, inicio)\n",
    "    else:\n",
    "        \n",
    "        epsilon = float(input('Introduce el valor del parámetro epsilon: '))\n",
    "        alpha = float(input('Introduce el valor del parámetro alpha: '))\n",
    "        \n",
    "        q, rendimiento  = q_learning_F2(data, recompensas, q, fin, epochs, gamma, epsilon, alpha, bol_camino, inicio)\n",
    "        \n",
    "    print('\\nMatriz Q obtenida =\\n')\n",
    "    for i in range(len(q)):\n",
    "        print(str(i)+':',q[i])\n",
    "        \n",
    "    muestra_rendimiento(rendimiento)\n",
    "        \n",
    "    return q, rendimiento, inicio, fin, recompensas"
   ]
  },
  {
   "cell_type": "markdown",
   "metadata": {},
   "source": [
    "## Creación de representación en forma de Grafo"
   ]
  },
  {
   "cell_type": "code",
   "execution_count": 15,
   "metadata": {},
   "outputs": [],
   "source": [
    "def crea_vertices(recompensas):\n",
    "    vertices = []\n",
    "    \n",
    "    for i in range(0,len(recompensas)):\n",
    "        vertices.append(i)\n",
    "        \n",
    "    return vertices"
   ]
  },
  {
   "cell_type": "code",
   "execution_count": 16,
   "metadata": {},
   "outputs": [],
   "source": [
    "def crea_aristas(recompensas):\n",
    "    aristas = []\n",
    "    \n",
    "    for i in range(0,len(recompensas)):\n",
    "        for j in range(0,len(recompensas)):\n",
    "            if recompensas[i][j]>=0:\n",
    "                aristas.append([i,j])\n",
    "                \n",
    "    return aristas"
   ]
  },
  {
   "cell_type": "code",
   "execution_count": 17,
   "metadata": {},
   "outputs": [],
   "source": [
    "def crea_colores(camino, recompensas, inicio, fin):\n",
    "    color_map = []\n",
    "    for i in range(0, len(recompensas)):\n",
    "        if i in camino:\n",
    "            if i == inicio or i == fin:\n",
    "                color_map.append('yellow')\n",
    "            else:\n",
    "                color_map.append('red')\n",
    "        else:\n",
    "            color_map.append('cyan')\n",
    "    return color_map"
   ]
  },
  {
   "cell_type": "code",
   "execution_count": 18,
   "metadata": {},
   "outputs": [],
   "source": [
    "def muestra_grafo_camino(q,recompensas,inicio,fin):\n",
    "    \n",
    "    camino, converge = calcular_camino(q, inicio, fin)\n",
    "    if converge:\n",
    "        grafo = nx.Graph()\n",
    "        grafo.add_nodes_from(crea_vertices(recompensas))\n",
    "        grafo.add_edges_from(crea_aristas(recompensas))\n",
    "        color_map = crea_colores(camino, recompensas, inicio, fin)\n",
    "        print('''\n",
    "Leyenda:\n",
    "inicio/fin = amarillo\n",
    "camino escogido = rojo\n",
    "resto de casillas = azul\n",
    "        ''')\n",
    "        plt.figure()\n",
    "        nx.draw_spring(grafo, with_labels=True, font_weight='bold', node_color=color_map)\n",
    "        plt.show()"
   ]
  },
  {
   "cell_type": "markdown",
   "metadata": {},
   "source": [
    "# Main:"
   ]
  },
  {
   "cell_type": "code",
   "execution_count": 23,
   "metadata": {
    "scrolled": false
   },
   "outputs": [
    {
     "name": "stdout",
     "output_type": "stream",
     "text": [
      "Si quieres que se genere la matriz de recompensas a partir de un tablero pulsa 0,\n",
      "si quieres cargar tu matriz de recompensas pulsa 1: 0\n",
      "Introduce el valor de la casilla de inicio: 0\n",
      "Introduce el valor de la casilla objetivo: 12\n",
      "Introduce el número de episodios de entrenamiento: 30\n",
      "Introduce el valor del factor de aprendizaje gamma: 0.5\n",
      "Introduce el nombre del fichero desde el que quieres cargar los datos: ejemplo2\n",
      "Si quiere que se muestren los caminos intermedios pulse 1: 2\n",
      "¿Qué algoritmo quieres usar, el 1 o el 2?: 1\n",
      "Época = 0 Completado al 0.0%\n",
      "Época = 1 Completado al 3.3333333333333335%\n",
      "Época = 2 Completado al 6.666666666666667%\n",
      "Época = 3 Completado al 10.0%\n",
      "Época = 4 Completado al 13.333333333333334%\n",
      "Época = 5 Completado al 16.666666666666664%\n",
      "Época = 6 Completado al 20.0%\n",
      "Época = 7 Completado al 23.333333333333332%\n",
      "Época = 8 Completado al 26.666666666666668%\n",
      "Época = 9 Completado al 30.0%\n",
      "Época = 10 Completado al 33.33333333333333%\n",
      "Época = 11 Completado al 36.666666666666664%\n",
      "Época = 12 Completado al 40.0%\n",
      "Época = 13 Completado al 43.333333333333336%\n",
      "Época = 14 Completado al 46.666666666666664%\n",
      "Época = 15 Completado al 50.0%\n",
      "Época = 16 Completado al 53.333333333333336%\n",
      "Época = 17 Completado al 56.666666666666664%\n",
      "Época = 18 Completado al 60.0%\n",
      "Época = 19 Completado al 63.33333333333333%\n",
      "Época = 20 Completado al 66.66666666666666%\n",
      "Época = 21 Completado al 70.0%\n",
      "Época = 22 Completado al 73.33333333333333%\n",
      "Época = 23 Completado al 76.66666666666667%\n",
      "Época = 24 Completado al 80.0%\n",
      "Época = 25 Completado al 83.33333333333334%\n",
      "Época = 26 Completado al 86.66666666666667%\n",
      "Época = 27 Completado al 90.0%\n",
      "Época = 28 Completado al 93.33333333333333%\n",
      "Época = 29 Completado al 96.66666666666667%\n",
      "Entrenamiento finalizado\n",
      "\n",
      "Matriz Q obtenida =\n",
      "\n",
      "0: [0, 3.90625, 0, 3.90625, 0, 0, 0, 0, 0, 0, 0, 0, 0, 0, 0]\n",
      "1: [1.953125, 0, 7.8125, 0, 7.8125, 0, 0, 0, 0, 0, 0, 0, 0, 0, 0]\n",
      "2: [0, 3.90625, 0, 3.90625, 0, 15.625, 0, 15.625, 0, 0, 0, 0, 0, 0, 0]\n",
      "3: [1.953125, 0, 7.8125, 0, 0, 0, 0, 0, 7.8125, 0, 0, 0, 0, 0, 0]\n",
      "4: [0, 3.90625, 0, 0, 0, 15.625, 0, 0, 0, 15.625, 0, 0, 0, 0, 0]\n",
      "5: [0, 0, 7.8125, 0, 7.8125, 0, 31.25, 0, 0, 0, 31.25, 0, 0, 0, 0]\n",
      "6: [0, 0, 0, 0, 0, 15.625, 0, 15.625, 0, 0, 0, 62.5, 0, 0, 0]\n",
      "7: [0, 0, 7.8125, 0, 0, 0, 31.25, 0, 7.8125, 0, 0, 0, 0, 0, 0]\n",
      "8: [0, 0, 0, 3.90625, 0, 0, 0, 15.625, 0, 0, 0, 0, 0, 0, 0]\n",
      "9: [0, 0, 0, 0, 7.8125, 0, 0, 0, 0, 0, 31.25, 0, 0, 31.25, 0]\n",
      "10: [0, 0, 0, 0, 0, 15.625, 0, 0, 0, 15.625, 0, 62.5, 0, 0, 62.5]\n",
      "11: [0, 0, 0, 0, 0, 0, 31.25, 0, 0, 0, 31.25, 0, 125.0, 0, 0]\n",
      "12: [0, 0, 0, 0, 0, 0, 0, 0, 0, 0, 0, 50.0, 0, 0, 0]\n",
      "13: [0, 0, 0, 0, 0, 0, 0, 0, 0, 15.625, 0, 0, 0, 0, 62.5]\n",
      "14: [0, 0, 0, 0, 0, 0, 0, 0, 0, 0, 31.25, 0, 125.0, 31.25, 0]\n"
     ]
    },
    {
     "data": {
      "image/png": "[encoded data removed]",
      "text/plain": [
       "<Figure size 432x288 with 1 Axes>"
      ]
     },
     "metadata": {
      "needs_background": "light"
     },
     "output_type": "display_data"
    },
    {
     "name": "stdout",
     "output_type": "stream",
     "text": [
      "El camino óptimo es:  0 -> 1 -> 2 -> 5 -> 6 -> 11 -> 12\n",
      "\n",
      "Leyenda:\n",
      "inicio/fin = amarillo\n",
      "camino escogido = rojo\n",
      "resto de casillas = azul\n",
      "        \n"
     ]
    },
    {
     "data": {
      "image/png": "[encoded data removed]",
      "text/plain": [
       "<Figure size 432x288 with 1 Axes>"
      ]
     },
     "metadata": {},
     "output_type": "display_data"
    }
   ],
   "source": [
    "def main(): \n",
    "    \n",
    "    q, rendimiento, inicio, fin, recompensas = ejecuta_QLearning()\n",
    "    \n",
    "    muestra_grafo_camino(q,recompensas,inicio,fin)    \n",
    "    \n",
    "if __name__ == \"__main__\": main()"
   ]
  },
  {
   "cell_type": "code",
   "execution_count": null,
   "metadata": {},
   "outputs": [],
   "source": [
    "'''\n",
    "i = 0.1\n",
    "while i<=1:\n",
    "    for b in range(0,4):\n",
    "        q = inicializa_Q(data)\n",
    "        q, rendimiento = q_learning_F2(data, recompensas, q, 0, 6, 50, 0.5, 1, i)\n",
    "        print('i = ', i)\n",
    "        muestra_rendimiento(rendimiento)\n",
    "    i+=0.1\n",
    "'''"
   ]
  },
  {
   "cell_type": "code",
   "execution_count": null,
   "metadata": {},
   "outputs": [],
   "source": []
  },
  {
   "cell_type": "code",
   "execution_count": null,
   "metadata": {},
   "outputs": [],
   "source": []
  },
  {
   "cell_type": "code",
   "execution_count": null,
   "metadata": {},
   "outputs": [],
   "source": [
    "data = cargar_datos_txt('./ejemplo2.txt')\n",
    "recompensas = cargar_datos_txt('./recompensas2.txt')\n",
    "q = inicializa_Q(recompensas)\n",
    "gamma = 0.5\n",
    "alpha=0.8\n",
    "epsilon= 0.9\n",
    "bol_camino = True\n",
    "inicio = 0\n",
    "fin=14\n",
    "epochs= 20\n",
    "for i in range(0,8):\n",
    "    q = inicializa_Q(recompensas)\n",
    "    q, rendimiento  = q_learning_F2(data, recompensas, q, fin, epochs, gamma, epsilon, alpha, bol_camino, inicio)\n",
    "    print(alpha)\n",
    "    print(q)\n",
    "    muestra_rendimiento(rendimiento)\n",
    "\n",
    "\n",
    "    alpha-=0.1"
   ]
  }
 ],
 "metadata": {
  "kernelspec": {
   "display_name": "Python 3",
   "language": "python",
   "name": "python3"
  },
  "language_info": {
   "codemirror_mode": {
    "name": "ipython",
    "version": 3
   },
   "file_extension": ".py",
   "mimetype": "text/x-python",
   "name": "python",
   "nbconvert_exporter": "python",
   "pygments_lexer": "ipython3",
   "version": "3.7.4"
  }
 },
 "nbformat": 4,
 "nbformat_minor": 2
}
