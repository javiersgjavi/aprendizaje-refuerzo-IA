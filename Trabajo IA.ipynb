{
 "cells": [
  {
   "cell_type": "code",
   "execution_count": null,
   "metadata": {},
   "outputs": [],
   "source": [
    "import os\n",
    "import csv"
   ]
  },
  {
   "cell_type": "code",
   "execution_count": null,
   "metadata": {},
   "outputs": [],
   "source": [
    "def cargar_datos_txt(fichero):\n",
    "    path = os.path.join(os.getcwd(), fichero)\n",
    "    filas = csv.reader(open(path, newline='\\n'))\n",
    "    data = []\n",
    "    \n",
    "    for fila in filas:\n",
    "        data.append(fila)   \n",
    "    return data"
   ]
  },
  {
   "cell_type": "code",
   "execution_count": null,
   "metadata": {},
   "outputs": [],
   "source": [
    "data = cargar_datos_txt('./parametros.txt')"
   ]
  },
  {
   "cell_type": "code",
   "execution_count": null,
   "metadata": {},
   "outputs": [],
   "source": [
    "data\n",
    "type(data)\n",
    "data[1].index('8')"
   ]
  },
  {
   "cell_type": "code",
   "execution_count": null,
   "metadata": {},
   "outputs": [],
   "source": [
    "a = str(input('asd'))"
   ]
  },
  {
   "cell_type": "code",
   "execution_count": null,
   "metadata": {},
   "outputs": [],
   "source": [
    "def encuentra_posicion(valor, data):\n",
    "    for i in range(0, len(data)):\n",
    "        for j in range(0, len(data[i])):   \n",
    "            if valor == data[i][j]:\n",
    "                x, y = i,j\n",
    "                break\n",
    "    return x, y\n",
    "            "
   ]
  },
  {
   "cell_type": "code",
   "execution_count": 19,
   "metadata": {},
   "outputs": [
    {
     "name": "stdout",
     "output_type": "stream",
     "text": [
      "True\n"
     ]
    },
    {
     "data": {
      "text/plain": [
       "(2, 1)"
      ]
     },
     "execution_count": 19,
     "metadata": {},
     "output_type": "execute_result"
    }
   ],
   "source": [
    "encuentra_posicion('1',data)"
   ]
  },
  {
   "cell_type": "code",
   "execution_count": null,
   "metadata": {},
   "outputs": [],
   "source": [
    "def cargar_datos(fichero):\n",
    "    \n",
    "    matriz = cargar_datos_txt(fichero)\n",
    "    \n",
    "    inicio = str(input())\n",
    "    \n",
    "    fin = str(input())\n",
    "    \n",
    "    \n",
    "    inicio_x, inicio_y = encuentra_posicion(inicio, data)\n",
    "    \n",
    "    fin_x, fin_y = encuentra_posicion(fin, data)\n",
    "    \n",
    "    \n",
    "    \n",
    "    "
   ]
  }
 ],
 "metadata": {
  "kernelspec": {
   "display_name": "Python 3",
   "language": "python",
   "name": "python3"
  },
  "language_info": {
   "codemirror_mode": {
    "name": "ipython",
    "version": 3
   },
   "file_extension": ".py",
   "mimetype": "text/x-python",
   "name": "python",
   "nbconvert_exporter": "python",
   "pygments_lexer": "ipython3",
   "version": "3.7.4"
  }
 },
 "nbformat": 4,
 "nbformat_minor": 2
}
